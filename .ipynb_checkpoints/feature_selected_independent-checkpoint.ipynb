{
 "cells": [
  {
   "cell_type": "code",
   "execution_count": 1,
   "id": "96549765-7c88-4cba-ac83-f301f563cfa3",
   "metadata": {
    "tags": []
   },
   "outputs": [
    {
     "name": "stdout",
     "output_type": "stream",
     "text": [
      "WARNING:tensorflow:From C:\\Users\\krist\\anaconda3\\Lib\\site-packages\\keras\\src\\losses.py:2976: The name tf.losses.sparse_softmax_cross_entropy is deprecated. Please use tf.compat.v1.losses.sparse_softmax_cross_entropy instead.\n",
      "\n"
     ]
    }
   ],
   "source": [
    "# Essential Libraries\n",
    "import time\n",
    "import pandas as pd\n",
    "import numpy as np\n",
    "import matplotlib.pyplot as plt\n",
    "import seaborn as sns\n",
    "\n",
    "# Machine Learning and Deep Learning Libraries\n",
    "from sklearn.model_selection import train_test_split\n",
    "from tensorflow.keras.preprocessing.text import Tokenizer\n",
    "from tensorflow.keras.preprocessing.sequence import pad_sequences\n",
    "from tensorflow.keras.utils import to_categorical\n",
    "from tensorflow.keras.models import Sequential\n",
    "from tensorflow.keras.layers import Embedding, LSTM, Dense, Dropout\n",
    "from tensorflow.keras.regularizers import l1_l2\n",
    "from tensorflow.keras.callbacks import EarlyStopping\n",
    "from sklearn.preprocessing import LabelEncoder, StandardScaler\n",
    "from sklearn.feature_extraction.text import TfidfVectorizer\n",
    "from sklearn.metrics import accuracy_score, roc_auc_score, confusion_matrix, classification_report\n",
    "from sklearn.ensemble import RandomForestClassifier\n",
    "\n",
    "# Swarm Intelligence\n",
    "# !pip install pyswarms\n",
    "from pyswarm import pso\n",
    "from pyswarms.single.global_best import GlobalBestPSO\n",
    "\n",
    "# Statistical Test\n",
    "from scipy.stats import shapiro, f_oneway, kruskal"
   ]
  },
  {
   "cell_type": "code",
   "execution_count": 2,
   "id": "cc7edae7-579d-4993-899c-003796fd1d3c",
   "metadata": {
    "tags": []
   },
   "outputs": [
    {
     "data": {
      "text/html": [
       "<div>\n",
       "<style scoped>\n",
       "    .dataframe tbody tr th:only-of-type {\n",
       "        vertical-align: middle;\n",
       "    }\n",
       "\n",
       "    .dataframe tbody tr th {\n",
       "        vertical-align: top;\n",
       "    }\n",
       "\n",
       "    .dataframe thead th {\n",
       "        text-align: right;\n",
       "    }\n",
       "</style>\n",
       "<table border=\"1\" class=\"dataframe\">\n",
       "  <thead>\n",
       "    <tr style=\"text-align: right;\">\n",
       "      <th></th>\n",
       "      <th>full_text</th>\n",
       "      <th>processed_text</th>\n",
       "      <th>vader_sentiment</th>\n",
       "    </tr>\n",
       "  </thead>\n",
       "  <tbody>\n",
       "    <tr>\n",
       "      <th>0</th>\n",
       "      <td>'Token: $GROK24 - Grok 2024 Network: Ethereum ...</td>\n",
       "      <td>token grok grok network ethereum contract xccc...</td>\n",
       "      <td>Positive</td>\n",
       "    </tr>\n",
       "    <tr>\n",
       "      <th>1</th>\n",
       "      <td>@metaversejoji Let's check @SolanaMono $SOL #W...</td>\n",
       "      <td>let check sol</td>\n",
       "      <td>Negative</td>\n",
       "    </tr>\n",
       "    <tr>\n",
       "      <th>2</th>\n",
       "      <td>Day's DCA: $BTC, $ATOM, $DVPN, $AXL, $JKL, $HU...</td>\n",
       "      <td>day dca btc atom dvpn axl jkl huahua</td>\n",
       "      <td>Negative</td>\n",
       "    </tr>\n",
       "    <tr>\n",
       "      <th>3</th>\n",
       "      <td>@BorkSOL @Cerita_Crypto @solana @aeyakovenko Y...</td>\n",
       "      <td>project really amazing thats followed send please</td>\n",
       "      <td>Positive</td>\n",
       "    </tr>\n",
       "    <tr>\n",
       "      <th>4</th>\n",
       "      <td>👉 WL FOR .0 SOL MINT 👈 👉40 HOURS TILL SNAPSHOT...</td>\n",
       "      <td>sol mint hour till snapshot requirement join d...</td>\n",
       "      <td>Positive</td>\n",
       "    </tr>\n",
       "    <tr>\n",
       "      <th>...</th>\n",
       "      <td>...</td>\n",
       "      <td>...</td>\n",
       "      <td>...</td>\n",
       "    </tr>\n",
       "    <tr>\n",
       "      <th>9879</th>\n",
       "      <td>CyberKong VX #11328 was adopted for  0.18 $ETH...</td>\n",
       "      <td>cyberkong adopted eth blur</td>\n",
       "      <td>Negative</td>\n",
       "    </tr>\n",
       "    <tr>\n",
       "      <th>9880</th>\n",
       "      <td>BULLISH ON SOLANA BULLISH ON JUP BULLISH ON MA...</td>\n",
       "      <td>bullish solana bullish jup bullish madlads</td>\n",
       "      <td>Negative</td>\n",
       "    </tr>\n",
       "    <tr>\n",
       "      <th>9881</th>\n",
       "      <td>@naija_bitcoin 🍿🍿🍿🍿🍿 rd to 3k before valentine...</td>\n",
       "      <td>valentine</td>\n",
       "      <td>Negative</td>\n",
       "    </tr>\n",
       "    <tr>\n",
       "      <th>9882</th>\n",
       "      <td>Binance Futures #KLAY/ #USDT Take-Profit targe...</td>\n",
       "      <td>binance future takeprofit target profit period...</td>\n",
       "      <td>Positive</td>\n",
       "    </tr>\n",
       "    <tr>\n",
       "      <th>9883</th>\n",
       "      <td>@Ta_hmid @Starknet You most likely in the luck...</td>\n",
       "      <td>likely lucky one</td>\n",
       "      <td>Positive</td>\n",
       "    </tr>\n",
       "  </tbody>\n",
       "</table>\n",
       "<p>9843 rows × 3 columns</p>\n",
       "</div>"
      ],
      "text/plain": [
       "                                              full_text  \\\n",
       "0     'Token: $GROK24 - Grok 2024 Network: Ethereum ...   \n",
       "1     @metaversejoji Let's check @SolanaMono $SOL #W...   \n",
       "2     Day's DCA: $BTC, $ATOM, $DVPN, $AXL, $JKL, $HU...   \n",
       "3     @BorkSOL @Cerita_Crypto @solana @aeyakovenko Y...   \n",
       "4     👉 WL FOR .0 SOL MINT 👈 👉40 HOURS TILL SNAPSHOT...   \n",
       "...                                                 ...   \n",
       "9879  CyberKong VX #11328 was adopted for  0.18 $ETH...   \n",
       "9880  BULLISH ON SOLANA BULLISH ON JUP BULLISH ON MA...   \n",
       "9881  @naija_bitcoin 🍿🍿🍿🍿🍿 rd to 3k before valentine...   \n",
       "9882  Binance Futures #KLAY/ #USDT Take-Profit targe...   \n",
       "9883  @Ta_hmid @Starknet You most likely in the luck...   \n",
       "\n",
       "                                         processed_text vader_sentiment  \n",
       "0     token grok grok network ethereum contract xccc...        Positive  \n",
       "1                                         let check sol        Negative  \n",
       "2                  day dca btc atom dvpn axl jkl huahua        Negative  \n",
       "3     project really amazing thats followed send please        Positive  \n",
       "4     sol mint hour till snapshot requirement join d...        Positive  \n",
       "...                                                 ...             ...  \n",
       "9879                         cyberkong adopted eth blur        Negative  \n",
       "9880         bullish solana bullish jup bullish madlads        Negative  \n",
       "9881                                          valentine        Negative  \n",
       "9882  binance future takeprofit target profit period...        Positive  \n",
       "9883                                   likely lucky one        Positive  \n",
       "\n",
       "[9843 rows x 3 columns]"
      ]
     },
     "metadata": {},
     "output_type": "display_data"
    }
   ],
   "source": [
    "# Load dataset\n",
    "df = pd.read_excel('XCleanCryptocurrencyDataset.xlsx', index_col=0)\n",
    "display(df)"
   ]
  },
  {
   "cell_type": "code",
   "execution_count": 3,
   "id": "d1a49d58-eeaf-4f7d-bef0-fada4ad9100c",
   "metadata": {
    "tags": []
   },
   "outputs": [
    {
     "data": {
      "image/png": "[encoded data removed]",
      "text/plain": [
       "<Figure size 1000x500 with 1 Axes>"
      ]
     },
     "metadata": {},
     "output_type": "display_data"
    },
    {
     "data": {
      "image/png": "[encoded data removed]",
      "text/plain": [
       "<Figure size 1000x500 with 1 Axes>"
      ]
     },
     "metadata": {},
     "output_type": "display_data"
    }
   ],
   "source": [
    "# Assume df is your loaded DataFrame\n",
    "X = df['processed_text']  # The processed text column\n",
    "y = df['vader_sentiment']  # The target/label column\n",
    "\n",
    "# Encoding the target\n",
    "label_encoder = LabelEncoder()\n",
    "y_encoded = label_encoder.fit_transform(y)\n",
    "y_categorical = to_categorical(y_encoded)\n",
    "\n",
    "# Word Frequency Analysis\n",
    "tokenizer = Tokenizer()\n",
    "tokenizer.fit_on_texts(X)\n",
    "word_counts = tokenizer.word_counts\n",
    "# Sorting word counts in descending order\n",
    "sorted_word_counts = sorted(word_counts.items(), key=lambda x: x[1], reverse=True)\n",
    "\n",
    "# Plotting word frequency distribution\n",
    "plt.figure(figsize=(10, 5))\n",
    "plt.loglog([x[1] for x in sorted_word_counts])  # Using a log-log plot for visualization\n",
    "plt.ylabel('Frequency')\n",
    "plt.xlabel('Word Ranking')\n",
    "plt.title('Word Frequency Distribution')\n",
    "plt.show()\n",
    "\n",
    "# Determining num_words for covering 95% of total frequency\n",
    "cumulative_coverage = np.cumsum([x[1] for x in sorted_word_counts]) / sum(word_counts.values())\n",
    "num_words = np.searchsorted(cumulative_coverage, 0.95) + 1  # e.g., to cover 95% of total frequency\n",
    "\n",
    "# Text Length Analysis\n",
    "text_lengths = [len(text.split()) for text in X]\n",
    "plt.figure(figsize=(10, 5))\n",
    "plt.hist(text_lengths, bins=50)\n",
    "plt.xlabel('Text Length')\n",
    "plt.ylabel('Frequency')\n",
    "plt.title('Text Length Distribution')\n",
    "plt.show()\n",
    "\n",
    "# Determining maxlen based on the 95th percentile\n",
    "maxlen = np.percentile(text_lengths, 95)  # For instance, the 95th percentile\n",
    "\n",
    "# Tokenization and sequence creation\n",
    "tokenizer = Tokenizer(num_words=num_words)\n",
    "tokenizer.fit_on_texts(X)\n",
    "sequences = tokenizer.texts_to_sequences(X)\n",
    "X_padded = pad_sequences(sequences, maxlen=int(maxlen))  # Adjust maxlen as per requirement, default:100\n",
    "\n",
    "# Splitting the data into training and testing sets\n",
    "X_train, X_test, y_train, y_test = train_test_split(X_padded, y_categorical, test_size=0.2, random_state=42)"
   ]
  },
  {
   "cell_type": "code",
   "execution_count": 19,
   "id": "04b939e2-f554-4ffc-acb2-e45078e41370",
   "metadata": {
    "tags": []
   },
   "outputs": [],
   "source": [
    "def aco(func, num_ants, num_iterations, lb, ub, decay=0.95, alpha=1.0, beta=1.0):\n",
    "    best_score = -float('inf')  # Initialize with the worst value; use -inf because we are looking for the maximum\n",
    "    best_solution = None\n",
    "    # Initialize pheromone levels\n",
    "    pheromone_levels = np.ones(ub - lb) * 0.1  # Assume all paths start with the same low pheromone level\n",
    "    \n",
    "    for iteration in range(num_iterations):\n",
    "        solutions = []\n",
    "        scores = []\n",
    "        \n",
    "        for ant in range(num_ants):\n",
    "            # Build solution based on pheromone probability distribution\n",
    "            p = (pheromone_levels ** alpha) * ((1.0 / (np.arange(ub - lb) + 1)) ** beta)\n",
    "            p /= p.sum()  # Normalize probabilities\n",
    "            chosen_index = np.random.choice(np.arange(ub - lb), p=p)\n",
    "            solution = lb + chosen_index\n",
    "            \n",
    "            # Evaluate score using the objective function\n",
    "            score = func([solution])  # Assuming the objective function accepts a list\n",
    "            \n",
    "            solutions.append(solution)\n",
    "            scores.append(score)\n",
    "            \n",
    "            # Update best solution\n",
    "            if score > best_score:\n",
    "                best_score = score\n",
    "                best_solution = solution\n",
    "        \n",
    "        # Update pheromone levels for all solutions\n",
    "        for solution, score in zip(solutions, scores):\n",
    "            pheromone_levels[solution - lb] += 1.0 / (1.0 - score)  # Update pheromone based on solution quality\n",
    "        \n",
    "        # Apply pheromone evaporation\n",
    "        pheromone_levels *= decay\n",
    "    \n",
    "    return best_solution, best_score"
   ]
  },
  {
   "cell_type": "code",
   "execution_count": 5,
   "id": "141f2266-5609-447d-8884-e8cd2b1c1124",
   "metadata": {
    "tags": []
   },
   "outputs": [],
   "source": [
    "def cso(func, num_cats, num_iterations, lb, ub, mixture_ratio=0.5):\n",
    "    best_score = float('inf')\n",
    "    best_solution = np.random.randint(lb, ub)  # Initialize best_solution with a valid random value\n",
    "    cat_positions = np.random.randint(low=lb, high=ub, size=num_cats)  # Initialize cat positions\n",
    "    \n",
    "    for iteration in range(num_iterations):\n",
    "        for cat in range(num_cats):\n",
    "            # Determine if this cat is in seeking mode or tracing mode\n",
    "            if np.random.rand() < mixture_ratio:\n",
    "                # Seeking Mode\n",
    "                candidate_position = cat_positions[cat] + np.random.randint(-3, 4)  # Small random step\n",
    "                candidate_position = np.clip(candidate_position, lb, ub-1)  # Ensure within bounds\n",
    "            else:\n",
    "                # Tracing Mode\n",
    "                candidate_position = best_solution + np.random.randint(-10, 11)  # Move towards the best solution\n",
    "                candidate_position = np.clip(candidate_position, lb, ub-1)\n",
    "            \n",
    "            candidate_score = func([candidate_position])\n",
    "            \n",
    "            # Update best solution\n",
    "            if candidate_score < best_score:\n",
    "                best_score = candidate_score\n",
    "                best_solution = candidate_position\n",
    "            \n",
    "            cat_positions[cat] = candidate_position\n",
    "    \n",
    "    return best_solution, -best_score  # Return score as positive"
   ]
  },
  {
   "cell_type": "code",
   "execution_count": 20,
   "id": "73653f41-e8a0-4698-b533-91407dd417a0",
   "metadata": {
    "tags": []
   },
   "outputs": [],
   "source": [
    "# Standardize features\n",
    "scaler = StandardScaler()\n",
    "X_train_scaled = scaler.fit_transform(X_train)\n",
    "X_test_scaled = scaler.transform(X_test)\n",
    "\n",
    "# Objective function for PSO\n",
    "def objective_function(feature_selection_vector):\n",
    "    selected_features = [i for i, bit in enumerate(feature_selection_vector) if bit > 0.5]  # Threshold at 0.5 for binary decision\n",
    "    if not selected_features:  # Avoid empty selection\n",
    "        return 1  # Worst case scenario\n",
    "    \n",
    "    # Use only the selected features for training and testing\n",
    "    X_train_selected = X_train_scaled[:, selected_features]\n",
    "    X_test_selected = X_test_scaled[:, selected_features]\n",
    "    \n",
    "    # Train a simple classifier on the selected features\n",
    "    clf = RandomForestClassifier(random_state=42)\n",
    "    clf.fit(X_train_selected, y_train)\n",
    "    \n",
    "    # Predict on the test set and calculate accuracy\n",
    "    y_pred = clf.predict(X_test_selected)\n",
    "    accuracy = accuracy_score(y_test, y_pred)\n",
    "    \n",
    "    # Return the negative accuracy as we want to maximize accuracy (minimize negative accuracy)\n",
    "    return -accuracy\n",
    "\n",
    "def objective_function_lstm(params):\n",
    "    num_lstm_units = int(params[0])  # Extract the optimized number of LSTM units\n",
    "    model = create_lstm_model(X_train.shape[1], y_train.shape[1], num_lstm_units)\n",
    "    model.fit(X_train, y_train, epochs=10, batch_size=128, verbose=0, validation_split=0.2, callbacks=[early_stopping])\n",
    "\n",
    "    # Use predict method and post-process to get predicted classes\n",
    "    y_prob = model.predict(X_test)\n",
    "    y_pred = np.argmax(y_prob, axis=1)\n",
    "\n",
    "    accuracy = accuracy_score(np.argmax(y_test, axis=1), y_pred)\n",
    "    return -accuracy\n",
    "\n",
    "def create_lstm_model(input_length, num_classes, num_lstm_units, dropout_rate=0.2):\n",
    "    # Define the LSTM model with specified dropout rate\n",
    "    model = Sequential([\n",
    "        Embedding(input_dim=num_words, output_dim=300, input_length=input_length),\n",
    "        LSTM(num_lstm_units, dropout=dropout_rate, recurrent_dropout=0.2),\n",
    "        Dense(num_classes, activation='softmax' if num_classes > 2 else 'sigmoid')\n",
    "    ])\n",
    "    # Compile the model with the appropriate loss function\n",
    "    model.compile(optimizer='adam', loss='categorical_crossentropy' if num_classes > 2 else 'binary_crossentropy', metrics=['accuracy'])\n",
    "    return model\n",
    "\n",
    "# PSO parameters\n",
    "lb = [0] * 20  # Lower bound (0 for each feature, meaning not selected)\n",
    "ub = [1] * 20  # Upper bound (1 for each feature, meaning selected)"
   ]
  },
  {
   "cell_type": "code",
   "execution_count": 11,
   "id": "3e38d83b-af81-4069-8c23-f90e129d835d",
   "metadata": {
    "tags": []
   },
   "outputs": [
    {
     "name": "stdout",
     "output_type": "stream",
     "text": [
      "No constraints given.\n",
      "Best after iteration 1: [0.81272961 0.80502711 0.45639366 0.43478726 0.45208547 0.92450182\n",
      " 0.77985382 0.0779789  0.7253334  0.22824781 0.56422689 0.43329302\n",
      " 0.90416289 0.69156449 0.57700142 0.56153575 0.80262179 0.57718463\n",
      " 0.70987552 0.51604118] -0.6612493651599797\n",
      "Best after iteration 2: [0.81272961 0.80502711 0.45639366 0.43478726 0.45208547 0.92450182\n",
      " 0.77985382 0.0779789  0.7253334  0.22824781 0.56422689 0.43329302\n",
      " 0.90416289 0.69156449 0.57700142 0.56153575 0.80262179 0.57718463\n",
      " 0.70987552 0.51604118] -0.6612493651599797\n",
      "Best after iteration 3: [0.81272961 0.80502711 0.45639366 0.43478726 0.45208547 0.92450182\n",
      " 0.77985382 0.0779789  0.7253334  0.22824781 0.56422689 0.43329302\n",
      " 0.90416289 0.69156449 0.57700142 0.56153575 0.80262179 0.57718463\n",
      " 0.70987552 0.51604118] -0.6612493651599797\n",
      "New best for swarm at iteration 4: [0.83214845 0.66029496 0.66368575 0.40199226 0.67860254 0.97883971\n",
      " 0.89078653 0.17077414 0.6728099  0.35278342 0.68650004 0.58126265\n",
      " 0.7190847  0.75743761 0.5111201  0.33310363 0.94093284 0.66788151\n",
      " 0.68940345 0.23949525] -0.6617572371762316\n",
      "Stopping search: Swarm best objective change less than 0.01\n"
     ]
    }
   ],
   "source": [
    "# Run PSO\n",
    "best_solution_pso, best_score_pso = pso(objective_function, lb, ub, swarmsize=15, maxiter=50, minfunc=0.01, minstep=0.01, debug=True)\n",
    "\n",
    "# Identify selected features\n",
    "selected_features_indices_pso = [i for i, bit in enumerate(best_solution_pso) if bit > 0.5]"
   ]
  },
  {
   "cell_type": "code",
   "execution_count": 24,
   "id": "04eec8b3-e281-4242-bb5a-412921fa90bc",
   "metadata": {
    "tags": []
   },
   "outputs": [
    {
     "ename": "TypeError",
     "evalue": "unsupported operand type(s) for -: 'list' and 'list'",
     "output_type": "error",
     "traceback": [
      "\u001b[1;31m---------------------------------------------------------------------------\u001b[0m",
      "\u001b[1;31mTypeError\u001b[0m                                 Traceback (most recent call last)",
      "Cell \u001b[1;32mIn[24], line 1\u001b[0m\n\u001b[1;32m----> 1\u001b[0m best_solution_aco, best_score_aco \u001b[38;5;241m=\u001b[39m aco(func\u001b[38;5;241m=\u001b[39mobjective_function_lstm, lb\u001b[38;5;241m=\u001b[39mlb, ub\u001b[38;5;241m=\u001b[39mub, num_ants\u001b[38;5;241m=\u001b[39m\u001b[38;5;241m15\u001b[39m, num_iterations\u001b[38;5;241m=\u001b[39m\u001b[38;5;241m50\u001b[39m, decay\u001b[38;5;241m=\u001b[39m\u001b[38;5;241m0.95\u001b[39m, alpha\u001b[38;5;241m=\u001b[39m\u001b[38;5;241m1.0\u001b[39m, beta\u001b[38;5;241m=\u001b[39m\u001b[38;5;241m2.0\u001b[39m)\n",
      "Cell \u001b[1;32mIn[19], line 5\u001b[0m, in \u001b[0;36maco\u001b[1;34m(func, num_ants, num_iterations, lb, ub, decay, alpha, beta)\u001b[0m\n\u001b[0;32m      3\u001b[0m best_solution \u001b[38;5;241m=\u001b[39m \u001b[38;5;28;01mNone\u001b[39;00m\n\u001b[0;32m      4\u001b[0m \u001b[38;5;66;03m# Initialize pheromone levels\u001b[39;00m\n\u001b[1;32m----> 5\u001b[0m pheromone_levels \u001b[38;5;241m=\u001b[39m np\u001b[38;5;241m.\u001b[39mones(ub \u001b[38;5;241m-\u001b[39m lb) \u001b[38;5;241m*\u001b[39m \u001b[38;5;241m0.1\u001b[39m  \u001b[38;5;66;03m# Assume all paths start with the same low pheromone level\u001b[39;00m\n\u001b[0;32m      7\u001b[0m \u001b[38;5;28;01mfor\u001b[39;00m iteration \u001b[38;5;129;01min\u001b[39;00m \u001b[38;5;28mrange\u001b[39m(num_iterations):\n\u001b[0;32m      8\u001b[0m     solutions \u001b[38;5;241m=\u001b[39m []\n",
      "\u001b[1;31mTypeError\u001b[0m: unsupported operand type(s) for -: 'list' and 'list'"
     ]
    }
   ],
   "source": [
    "best_solution_aco, best_score_aco = aco(func=objective_function_lstm, lb=lb, ub=ub, num_ants=15, num_iterations=50, decay=0.95, alpha=1.0, beta=2.0)\n",
    "selected_features_indices_aco = [i for i, bit in enumerate(best_solution_aco) if bit > 0.5]"
   ]
  },
  {
   "cell_type": "code",
   "execution_count": null,
   "id": "713df4dc-9028-4b5a-9773-45911667f32e",
   "metadata": {},
   "outputs": [],
   "source": [
    "# best_solution_cso, best_score_cso = cso(func=objective_function, lb=lb, ub=ub, num_cats=15, num_iterations=50, mixture_ratio=0.5)\n",
    "# selected_features_indices_cso = [i for i, bit in enumerate(best_solution_cso) if bit > 0.5]"
   ]
  },
  {
   "cell_type": "code",
   "execution_count": null,
   "id": "d636d72e-207e-4640-9244-f72da2cb320f",
   "metadata": {},
   "outputs": [],
   "source": [
    "# Data untuk membuat tabel\n",
    "data = {\n",
    "    \"Algorithm\": [\"PSO\", \"ACO\", \"CSO\"],\n",
    "    \"Best Score (Accuracy)\": [-best_score_pso, -best_score_aco, -best_score_cso],  # Mengubah skor menjadi positif karena skor negatif digunakan untuk optimisasi\n",
    "    \"Number of Selected Features\": [len(selected_features_indices_pso), len(selected_features_indices_aco), len(selected_features_indices_cso)],\n",
    "    \"Selected Features Indices\": [selected_features_indices_pso, selected_features_indices_aco, selected_features_indices_cso]\n",
    "}\n",
    "\n",
    "# Membuat DataFrame\n",
    "df = pd.DataFrame(data)\n",
    "\n",
    "# Menampilkan DataFrame\n",
    "print(df.to_string(index=False))"
   ]
  }
 ],
 "metadata": {
  "kernelspec": {
   "display_name": "Python 3 (ipykernel)",
   "language": "python",
   "name": "python3"
  },
  "language_info": {
   "codemirror_mode": {
    "name": "ipython",
    "version": 3
   },
   "file_extension": ".py",
   "mimetype": "text/x-python",
   "name": "python",
   "nbconvert_exporter": "python",
   "pygments_lexer": "ipython3",
   "version": "3.11.5"
  }
 },
 "nbformat": 4,
 "nbformat_minor": 5
}

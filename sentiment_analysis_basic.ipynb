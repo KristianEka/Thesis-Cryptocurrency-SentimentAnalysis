{
 "cells": [
  {
   "cell_type": "markdown",
   "metadata": {
    "id": "thhABeprZU60"
   },
   "source": [
    "# **Library Installation**"
   ]
  },
  {
   "cell_type": "code",
   "execution_count": 1,
   "metadata": {
    "id": "arGsYkHVZI2L"
   },
   "outputs": [
    {
     "name": "stdout",
     "output_type": "stream",
     "text": [
      "WARNING:tensorflow:From C:\\Users\\krist\\anaconda3\\Lib\\site-packages\\keras\\src\\losses.py:2976: The name tf.losses.sparse_softmax_cross_entropy is deprecated. Please use tf.compat.v1.losses.sparse_softmax_cross_entropy instead.\n",
      "\n"
     ]
    }
   ],
   "source": [
    "# Library\n",
    "import time\n",
    "import pandas as pd\n",
    "import numpy as np\n",
    "import matplotlib.pyplot as plt\n",
    "import seaborn as sns\n",
    "from sklearn.model_selection import train_test_split\n",
    "from tensorflow.keras.preprocessing.text import Tokenizer\n",
    "from tensorflow.keras.preprocessing.sequence import pad_sequences\n",
    "from tensorflow.keras.utils import to_categorical\n",
    "from tensorflow.keras.models import Sequential\n",
    "from tensorflow.keras.layers import Embedding, LSTM, Dense, Dropout\n",
    "from tensorflow.keras.regularizers import l1_l2\n",
    "from tensorflow.keras.callbacks import EarlyStopping\n",
    "from sklearn.preprocessing import LabelEncoder\n",
    "from sklearn.feature_extraction.text import TfidfVectorizer\n",
    "from sklearn.metrics import accuracy_score, roc_auc_score, confusion_matrix, classification_report"
   ]
  },
  {
   "cell_type": "code",
   "execution_count": 2,
   "metadata": {
    "id": "H6am0RGdaUx5"
   },
   "outputs": [],
   "source": [
    "# Set seed\n",
    "np.random.seed(42)"
   ]
  },
  {
   "cell_type": "markdown",
   "metadata": {
    "id": "0CjzRXABZXxS"
   },
   "source": [
    "# **Read Data**"
   ]
  },
  {
   "cell_type": "code",
   "execution_count": 3,
   "metadata": {
    "colab": {
     "base_uri": "https://localhost:8080/",
     "height": 423
    },
    "id": "OwGurEKXZZFM",
    "outputId": "3ce984e4-b6cb-4c02-808b-eaf4328beca3"
   },
   "outputs": [
    {
     "data": {
      "text/html": [
       "<div>\n",
       "<style scoped>\n",
       "    .dataframe tbody tr th:only-of-type {\n",
       "        vertical-align: middle;\n",
       "    }\n",
       "\n",
       "    .dataframe tbody tr th {\n",
       "        vertical-align: top;\n",
       "    }\n",
       "\n",
       "    .dataframe thead th {\n",
       "        text-align: right;\n",
       "    }\n",
       "</style>\n",
       "<table border=\"1\" class=\"dataframe\">\n",
       "  <thead>\n",
       "    <tr style=\"text-align: right;\">\n",
       "      <th></th>\n",
       "      <th>full_text</th>\n",
       "      <th>processed_text</th>\n",
       "      <th>vader_sentiment</th>\n",
       "    </tr>\n",
       "  </thead>\n",
       "  <tbody>\n",
       "    <tr>\n",
       "      <th>0</th>\n",
       "      <td>'Token: $GROK24 - Grok 2024 Network: Ethereum ...</td>\n",
       "      <td>token grok grok network ethereum contract xccc...</td>\n",
       "      <td>Positive</td>\n",
       "    </tr>\n",
       "    <tr>\n",
       "      <th>1</th>\n",
       "      <td>@metaversejoji Let's check @SolanaMono $SOL #W...</td>\n",
       "      <td>let check sol</td>\n",
       "      <td>Negative</td>\n",
       "    </tr>\n",
       "    <tr>\n",
       "      <th>2</th>\n",
       "      <td>Day's DCA: $BTC, $ATOM, $DVPN, $AXL, $JKL, $HU...</td>\n",
       "      <td>day dca btc atom dvpn axl jkl huahua</td>\n",
       "      <td>Negative</td>\n",
       "    </tr>\n",
       "    <tr>\n",
       "      <th>3</th>\n",
       "      <td>@BorkSOL @Cerita_Crypto @solana @aeyakovenko Y...</td>\n",
       "      <td>project really amazing thats followed send please</td>\n",
       "      <td>Positive</td>\n",
       "    </tr>\n",
       "    <tr>\n",
       "      <th>4</th>\n",
       "      <td>👉 WL FOR .0 SOL MINT 👈 👉40 HOURS TILL SNAPSHOT...</td>\n",
       "      <td>sol mint hour till snapshot requirement join d...</td>\n",
       "      <td>Positive</td>\n",
       "    </tr>\n",
       "    <tr>\n",
       "      <th>...</th>\n",
       "      <td>...</td>\n",
       "      <td>...</td>\n",
       "      <td>...</td>\n",
       "    </tr>\n",
       "    <tr>\n",
       "      <th>9879</th>\n",
       "      <td>CyberKong VX #11328 was adopted for  0.18 $ETH...</td>\n",
       "      <td>cyberkong adopted eth blur</td>\n",
       "      <td>Negative</td>\n",
       "    </tr>\n",
       "    <tr>\n",
       "      <th>9880</th>\n",
       "      <td>BULLISH ON SOLANA BULLISH ON JUP BULLISH ON MA...</td>\n",
       "      <td>bullish solana bullish jup bullish madlads</td>\n",
       "      <td>Negative</td>\n",
       "    </tr>\n",
       "    <tr>\n",
       "      <th>9881</th>\n",
       "      <td>@naija_bitcoin 🍿🍿🍿🍿🍿 rd to 3k before valentine...</td>\n",
       "      <td>valentine</td>\n",
       "      <td>Negative</td>\n",
       "    </tr>\n",
       "    <tr>\n",
       "      <th>9882</th>\n",
       "      <td>Binance Futures #KLAY/ #USDT Take-Profit targe...</td>\n",
       "      <td>binance future takeprofit target profit period...</td>\n",
       "      <td>Positive</td>\n",
       "    </tr>\n",
       "    <tr>\n",
       "      <th>9883</th>\n",
       "      <td>@Ta_hmid @Starknet You most likely in the luck...</td>\n",
       "      <td>likely lucky one</td>\n",
       "      <td>Positive</td>\n",
       "    </tr>\n",
       "  </tbody>\n",
       "</table>\n",
       "<p>9843 rows × 3 columns</p>\n",
       "</div>"
      ],
      "text/plain": [
       "                                              full_text  \\\n",
       "0     'Token: $GROK24 - Grok 2024 Network: Ethereum ...   \n",
       "1     @metaversejoji Let's check @SolanaMono $SOL #W...   \n",
       "2     Day's DCA: $BTC, $ATOM, $DVPN, $AXL, $JKL, $HU...   \n",
       "3     @BorkSOL @Cerita_Crypto @solana @aeyakovenko Y...   \n",
       "4     👉 WL FOR .0 SOL MINT 👈 👉40 HOURS TILL SNAPSHOT...   \n",
       "...                                                 ...   \n",
       "9879  CyberKong VX #11328 was adopted for  0.18 $ETH...   \n",
       "9880  BULLISH ON SOLANA BULLISH ON JUP BULLISH ON MA...   \n",
       "9881  @naija_bitcoin 🍿🍿🍿🍿🍿 rd to 3k before valentine...   \n",
       "9882  Binance Futures #KLAY/ #USDT Take-Profit targe...   \n",
       "9883  @Ta_hmid @Starknet You most likely in the luck...   \n",
       "\n",
       "                                         processed_text vader_sentiment  \n",
       "0     token grok grok network ethereum contract xccc...        Positive  \n",
       "1                                         let check sol        Negative  \n",
       "2                  day dca btc atom dvpn axl jkl huahua        Negative  \n",
       "3     project really amazing thats followed send please        Positive  \n",
       "4     sol mint hour till snapshot requirement join d...        Positive  \n",
       "...                                                 ...             ...  \n",
       "9879                         cyberkong adopted eth blur        Negative  \n",
       "9880         bullish solana bullish jup bullish madlads        Negative  \n",
       "9881                                          valentine        Negative  \n",
       "9882  binance future takeprofit target profit period...        Positive  \n",
       "9883                                   likely lucky one        Positive  \n",
       "\n",
       "[9843 rows x 3 columns]"
      ]
     },
     "metadata": {},
     "output_type": "display_data"
    }
   ],
   "source": [
    "# Load dataset\n",
    "df = pd.read_excel('XCleanCryptocurrencyDataset.xlsx', index_col=0)\n",
    "display(df)"
   ]
  },
  {
   "cell_type": "markdown",
   "metadata": {
    "id": "iK96gIM6ZcpR"
   },
   "source": [
    "# **Data Splitting**"
   ]
  },
  {
   "cell_type": "code",
   "execution_count": 4,
   "metadata": {
    "id": "2qZ8YkqjZhMl"
   },
   "outputs": [],
   "source": [
    "# # Asumsikan df adalah DataFrame Anda yang sudah dimuat\n",
    "# X = df['processed_text']  # Kolom teks yang sudah diproses\n",
    "# y = df['vader_sentiment']  # Target/Label\n",
    "\n",
    "# # Encoding target\n",
    "# label_encoder = LabelEncoder()\n",
    "# y_encoded = label_encoder.fit_transform(y)\n",
    "# y_categorical = to_categorical(y_encoded)\n",
    "\n",
    "# # Tokenisasi dan pembuatan sequences\n",
    "# tokenizer = Tokenizer(num_words=5000)\n",
    "# tokenizer.fit_on_texts(X)\n",
    "# sequences = tokenizer.texts_to_sequences(X)\n",
    "# X_padded = pad_sequences(sequences, maxlen=1000)  # Sesuaikan maxlen sesuai dengan kebutuhan default:100\n",
    "\n",
    "# # Splitting data\n",
    "# X_train, X_test, y_train, y_test = train_test_split(X_padded, y_categorical, test_size=0.2, random_state=42)\n",
    "\n",
    "# # Batasan feature selection\n",
    "# dim = X_train.shape[1]  # Jumlah token maksimal dalam sequences\n",
    "# lb = [0] * dim\n",
    "# ub = [1] * dim"
   ]
  },
  {
   "cell_type": "code",
   "execution_count": 4,
   "metadata": {
    "id": "2qZ8YkqjZhMl"
   },
   "outputs": [
    {
     "data": {
      "image/png": "[encoded data removed]",
      "text/plain": [
       "<Figure size 1000x500 with 1 Axes>"
      ]
     },
     "metadata": {},
     "output_type": "display_data"
    },
    {
     "data": {
      "image/png": "[encoded data removed]",
      "text/plain": [
       "<Figure size 1000x500 with 1 Axes>"
      ]
     },
     "metadata": {},
     "output_type": "display_data"
    }
   ],
   "source": [
    "import matplotlib.pyplot as plt\n",
    "# Asumsikan df adalah DataFrame Anda yang sudah dimuat\n",
    "X = df['processed_text']  # Kolom teks yang sudah diproses\n",
    "y = df['vader_sentiment']  # Target/Label\n",
    "\n",
    "# Encoding target\n",
    "label_encoder = LabelEncoder()\n",
    "y_encoded = label_encoder.fit_transform(y)\n",
    "y_categorical = to_categorical(y_encoded)\n",
    "\n",
    "# Analisis Frekuensi Kata\n",
    "tokenizer = Tokenizer()\n",
    "tokenizer.fit_on_texts(X)\n",
    "word_counts = tokenizer.word_counts\n",
    "sorted_word_counts = sorted(word_counts.items(), key=lambda x: x[1], reverse=True)\n",
    "\n",
    "# Plot distribusi frekuensi kata\n",
    "plt.figure(figsize=(10, 5))\n",
    "plt.loglog([x[1] for x in sorted_word_counts])  # Log-log plot\n",
    "plt.ylabel('Frekuensi')\n",
    "plt.xlabel('Ranking Kata')\n",
    "plt.title('Distribusi Frekuensi Kata')\n",
    "plt.show()\n",
    "\n",
    "# Tentukan num_words\n",
    "cumulative_coverage = np.cumsum([x[1] for x in sorted_word_counts]) / sum(word_counts.values())\n",
    "num_words = np.searchsorted(cumulative_coverage, 0.95) + 1  # Misal, menutupi 95% frekuensi total\n",
    "\n",
    "# Analisis Panjang Teks\n",
    "text_lengths = [len(text.split()) for text in X]\n",
    "plt.figure(figsize=(10, 5))\n",
    "plt.hist(text_lengths, bins=50)\n",
    "plt.xlabel('Panjang Teks')\n",
    "plt.ylabel('Frekuensi')\n",
    "plt.title('Distribusi Panjang Teks')\n",
    "plt.show()\n",
    "\n",
    "# Tentukan maxlen\n",
    "maxlen = np.percentile(text_lengths, 95)  # Misal, persentil ke-95\n",
    "\n",
    "# Tokenisasi dan pembuatan sequences\n",
    "tokenizer = Tokenizer(num_words=num_words)\n",
    "tokenizer.fit_on_texts(X)\n",
    "sequences = tokenizer.texts_to_sequences(X)\n",
    "X_padded = pad_sequences(sequences, maxlen=int(maxlen))  # Sesuaikan maxlen sesuai dengan kebutuhan default:100\n",
    "\n",
    "# Splitting data\n",
    "X_train, X_test, y_train, y_test = train_test_split(X_padded, y_categorical, test_size=0.2, random_state=42)\n",
    "\n",
    "# Batasan feature selection\n",
    "dim = X_train.shape[1]  # Jumlah token maksimal dalam sequences\n",
    "lb = [0] * dim\n",
    "ub = [1] * dim"
   ]
  },
  {
   "cell_type": "code",
   "execution_count": 5,
   "metadata": {
    "tags": []
   },
   "outputs": [
    {
     "name": "stdout",
     "output_type": "stream",
     "text": [
      "Label kelas dan encoding-nya:\n",
      "Kelas 0: Negative\n",
      "Kelas 1: Positive\n"
     ]
    }
   ],
   "source": [
    "# Asumsikan y adalah target/label Anda\n",
    "y = df['vader_sentiment']  # Contoh target/Label\n",
    "\n",
    "# Encoding target\n",
    "label_encoder = LabelEncoder()\n",
    "y_encoded = label_encoder.fit_transform(y)\n",
    "\n",
    "# Menampilkan label kelas dan encoding-nya\n",
    "labels = label_encoder.classes_\n",
    "print(\"Label kelas dan encoding-nya:\")\n",
    "for i, label in enumerate(labels):\n",
    "    print(f\"Kelas {i}: {label}\")"
   ]
  },
  {
   "cell_type": "code",
   "execution_count": 7,
   "metadata": {},
   "outputs": [],
   "source": [
    "# # Assuming df is your loaded DataFrame\n",
    "# X = df['processed_text']  # Preprocessed text column\n",
    "# y = df['vader_sentiment']  # Target/Label\n",
    "\n",
    "# # Encoding the target\n",
    "# label_encoder = LabelEncoder()\n",
    "# y_encoded = label_encoder.fit_transform(y)\n",
    "# y_categorical = to_categorical(y_encoded)\n",
    "\n",
    "# # Apply TF-IDF encoding instead of tokenization and padding\n",
    "# tfidf_vectorizer = TfidfVectorizer(max_features=100)  # Adjust max_features as needed\n",
    "# X_tfidf = tfidf_vectorizer.fit_transform(X).toarray()\n",
    "\n",
    "# # Splitting data\n",
    "# X_train, X_test, y_train, y_test = train_test_split(X_tfidf, y_categorical, test_size=0.2, random_state=42)\n",
    "\n",
    "# # Since TF-IDF produces a dense matrix of features, we adjust the feature selection bounds accordingly\n",
    "# dim = X_train.shape[1]  # The new dimension is the number of features from TF-IDF\n",
    "# lb = [0] * dim  # Lower bound for each feature\n",
    "# ub = [1] * dim  # Upper bound for each feature"
   ]
  },
  {
   "cell_type": "markdown",
   "metadata": {
    "id": "3iwrBTfWZgMM"
   },
   "source": [
    "# **Feature Selection**"
   ]
  },
  {
   "cell_type": "markdown",
   "metadata": {
    "id": "shMg_07NbzFn"
   },
   "source": [
    "# Particle Swarm Optimization (PSO)"
   ]
  },
  {
   "cell_type": "code",
   "execution_count": 6,
   "metadata": {
    "tags": []
   },
   "outputs": [],
   "source": [
    "def pso(lb, ub, ieqcons=[], f_ieqcons=None, args=(), kwargs={}, swarmsize=100, omega=0.5, phip=0.5, phig=0.5, maxiter=100, minstep=1e-8, minfunc=1e-8, debug=False):\n",
    "    \"\"\"\n",
    "    Perform a particle swarm optimization (PSO) without an external objective function.\n",
    "\n",
    "    Parameters:\n",
    "    - lb: lower bounds of the design variables\n",
    "    - ub: upper bounds of the design variables\n",
    "    - ieqcons: list of inequality constraint functions (optional)\n",
    "    - f_ieqcons: function returning a list of inequality constraints (optional)\n",
    "    - args: additional arguments passed to the internal evaluation function\n",
    "    - kwargs: additional keyword arguments passed to the internal evaluation function\n",
    "    - swarmsize: number of particles in the swarm\n",
    "    - omega: particle velocity scaling factor\n",
    "    - phip: scaling factor to search away from the particle's best known position\n",
    "    - phig: scaling factor to search away from the swarm's best known position\n",
    "    - maxiter: maximum number of iterations\n",
    "    - minstep: minimum step size of swarm's best position before the search terminates\n",
    "    - minfunc: minimum change of swarm's best objective value before the search terminates\n",
    "    - debug: if True, progress statements will be displayed every iteration\n",
    "\n",
    "    Returns:\n",
    "    - g: the swarm's best known position (optimal design)\n",
    "    - f: the objective value at g\n",
    "    \"\"\"\n",
    "    dim = len(lb)\n",
    "    # Initialize the particle positions and their velocities\n",
    "    positions = np.random.uniform(low=lb, high=ub, size=(swarmsize, dim))\n",
    "    velocities = np.zeros((swarmsize, dim))\n",
    "    # Initialize the global and local best positions\n",
    "    personal_best_positions = positions.copy()\n",
    "    personal_best_values = np.array([np.inf for _ in range(swarmsize)])\n",
    "    global_best_value = np.inf\n",
    "    global_best_position = None\n",
    "\n",
    "    def evaluate(position):\n",
    "        # Define the objective directly inside PSO. For demonstration, using sum of squares.\n",
    "        return np.sum(position**2)\n",
    "\n",
    "    for iteration in range(maxiter):\n",
    "        # Update velocities and positions\n",
    "        for i in range(swarmsize):\n",
    "            r_p, r_g = np.random.rand(dim), np.random.rand(dim)\n",
    "            velocities[i] = omega * velocities[i] + \\\n",
    "                            phip * r_p * (personal_best_positions[i] - positions[i]) + \\\n",
    "                            phig * r_g * (global_best_position - positions[i]) if global_best_position is not None else 0\n",
    "            positions[i] += velocities[i]\n",
    "            positions[i] = np.clip(positions[i], lb, ub)  # Keep within bounds\n",
    "\n",
    "            # Evaluate the fitness directly without an external function\n",
    "            value = evaluate(positions[i])\n",
    "            # Update the personal best\n",
    "            if value < personal_best_values[i]:\n",
    "                personal_best_positions[i] = positions[i]\n",
    "                personal_best_values[i] = value\n",
    "            # Update the global best\n",
    "            if value < global_best_value:\n",
    "                global_best_position = positions[i]\n",
    "                global_best_value = value\n",
    "\n",
    "        if debug:\n",
    "            print(f\"Iteration {iteration}: Best Value = {global_best_value}\")\n",
    "\n",
    "        # Check for early stopping criteria\n",
    "        if np.abs(global_best_value - personal_best_values.min()) < minfunc or np.linalg.norm(velocities.max()) < minstep:\n",
    "            break\n",
    "\n",
    "    return global_best_position, global_best_value"
   ]
  },
  {
   "cell_type": "code",
   "execution_count": 28,
   "metadata": {
    "tags": []
   },
   "outputs": [
    {
     "name": "stdout",
     "output_type": "stream",
     "text": [
      "Optimal Position: [0.7235086  0.08812955 0.67256118 0.48691766 0.14415344 0.46265043\n",
      " 0.24170322 0.3692515  0.52922555 0.21763496 0.11817568 0.10101554\n",
      " 0.12555874 0.0590859  0.60681614 0.12050355 0.85040279 0.88287071\n",
      " 0.63470967 0.15672676 0.71807026 0.3875604  0.43986151 0.60267089\n",
      " 0.31127805]\n",
      "Objective Value at Optimal Position: 5.653346544976379\n"
     ]
    }
   ],
   "source": [
    "# Calling the modified PSO function\n",
    "best_pos_pso, best_val_pso = pso(lb=lb, ub=ub, swarmsize=15, maxiter=50)  # Kurangi untuk kecepatan\n",
    "\n",
    "print(f\"Optimal Position: {best_pos_pso}\")\n",
    "print(f\"Objective Value at Optimal Position: {best_val_pso}\")"
   ]
  },
  {
   "cell_type": "markdown",
   "metadata": {
    "id": "1Emp2ujPb3jy"
   },
   "source": [
    "# Ant Colony Optimization (ACO)"
   ]
  },
  {
   "cell_type": "code",
   "execution_count": 8,
   "metadata": {
    "tags": []
   },
   "outputs": [],
   "source": [
    "def aco(lb, ub, ants=100, maxiter=100, alpha=1.0, beta=2.0, evaporation_rate=0.5, pheromone_deposit=0.1, debug=False):\n",
    "    \"\"\"\n",
    "    Perform an Ant Colony Optimization (ACO) without an external objective function.\n",
    "\n",
    "    Parameters:\n",
    "    - lb: The lower bounds of the design variable(s)\n",
    "    - ub: The upper bounds of the design variable(s)\n",
    "    - ants: The number of ants in the colony (Default: 100)\n",
    "    - maxiter: The maximum number of iterations (Default: 100)\n",
    "    - alpha: Relative importance of pheromone (Default: 1.0)\n",
    "    - beta: Relative importance of heuristic information (Default: 2.0)\n",
    "    - evaporation_rate: Rate at which pheromone evaporates (Default: 0.5)\n",
    "    - pheromone_deposit: Amount of pheromone deposited by ants (Default: 0.1)\n",
    "    - debug: If True, progress statements will be displayed (Default: False)\n",
    "\n",
    "    Returns:\n",
    "    - The best known position and objective value\n",
    "    \"\"\"\n",
    "    dim = len(lb)\n",
    "    pheromone_levels = np.ones((ants, dim))\n",
    "    best_val = np.inf\n",
    "    best_pos = None\n",
    "\n",
    "    def evaluate(position):\n",
    "        # Define the objective directly inside ACO. For demonstration, using sum of squares.\n",
    "        return np.sum(position**2)\n",
    "\n",
    "    # Main ACO loop\n",
    "    for iteration in range(maxiter):\n",
    "        positions = np.random.uniform(low=lb, high=ub, size=(ants, dim))\n",
    "        for ant in range(ants):\n",
    "            val = evaluate(positions[ant])  # Use the internal evaluate function\n",
    "            if val < best_val:\n",
    "                best_val = val\n",
    "                best_pos = positions[ant]\n",
    "\n",
    "            # Update pheromones\n",
    "            pheromone_levels[ant] += pheromone_deposit\n",
    "\n",
    "        # Evaporate pheromones\n",
    "        pheromone_levels *= (1 - evaporation_rate)\n",
    "\n",
    "        if debug:\n",
    "            print(f\"Iteration {iteration}: Best Value = {best_val}\")\n",
    "\n",
    "    return best_pos, best_val"
   ]
  },
  {
   "cell_type": "code",
   "execution_count": 9,
   "metadata": {
    "tags": []
   },
   "outputs": [
    {
     "name": "stdout",
     "output_type": "stream",
     "text": [
      "Optimal Position: [0.60065107 0.74359392 0.50626606 0.63410403 0.07093222 0.25439158\n",
      " 0.36185309 0.47249336 0.04564875 0.1400241  0.27681431 0.97153269\n",
      " 0.33134701 0.48204106 0.19609771 0.61078007 0.28068322 0.20699258\n",
      " 0.51657263 0.0055058  0.00766403 0.21906881 0.03672136 0.10802575\n",
      " 0.33886065]\n",
      "Objective Value at Optimal Position: 4.356295495629194\n"
     ]
    }
   ],
   "source": [
    "# Calling the modified PSO function\n",
    "best_pos_aco, best_val_aco = aco(lb=lb, ub=ub, ants=15, maxiter=50)\n",
    "\n",
    "print(f\"Optimal Position: {best_pos_aco}\")\n",
    "print(f\"Objective Value at Optimal Position: {best_val_aco}\")"
   ]
  },
  {
   "cell_type": "markdown",
   "metadata": {
    "id": "VBNlyX46b7fb"
   },
   "source": [
    "# Cat Swarm Optimization (CSO)"
   ]
  },
  {
   "cell_type": "code",
   "execution_count": 10,
   "metadata": {
    "id": "S2gAPTPEb_JR"
   },
   "outputs": [],
   "source": [
    "def cso(lb, ub, cats=100, maxiter=100, mix_rate=0.5, seeking_memory_pool=5, seeking_range_of_selected_dimension=0.2, counts_of_dimension_to_change=2, debug=False):\n",
    "    \"\"\"\n",
    "    Perform a Cat Swarm Optimization (CSO) without an external objective function.\n",
    "\n",
    "    Parameters:\n",
    "    - lb: The lower bounds of the design variable(s)\n",
    "    - ub: The upper bounds of the design variable(s)\n",
    "    - cats: The number of cats in the swarm (Default: 100)\n",
    "    - maxiter: The maximum number of iterations (Default: 100)\n",
    "    - mix_rate: Mixture rate to switch between seeking and tracing modes (Default: 0.5)\n",
    "    - seeking_memory_pool: Size of memory pool in seeking mode (Default: 5)\n",
    "    - seeking_range_of_selected_dimension: Range of selected dimension in seeking mode (Default: 0.2)\n",
    "    - counts_of_dimension_to_change: Number of dimensions to change in seeking mode (Default: 2)\n",
    "    - debug: If True, progress statements will be displayed (Default: False)\n",
    "\n",
    "    Returns:\n",
    "    - The best known position and objective value\n",
    "    \"\"\"\n",
    "    dim = len(lb)\n",
    "    best_val = np.inf\n",
    "    best_pos = None\n",
    "    positions = np.random.uniform(low=lb, high=ub, size=(cats, dim))\n",
    "\n",
    "    def evaluate(position):\n",
    "        # Define the objective directly inside CSO. For demonstration, using sum of squares.\n",
    "        return np.sum(position**2)\n",
    "\n",
    "    # Main CSO loop\n",
    "    for iteration in range(maxiter):\n",
    "        for cat in range(cats):\n",
    "            if np.random.rand() < mix_rate:\n",
    "                # Seeking mode\n",
    "                for _ in range(seeking_memory_pool):\n",
    "                    candidate_position = positions[cat] + np.random.uniform(-1, 1, size=dim) * seeking_range_of_selected_dimension\n",
    "                    candidate_position = np.clip(candidate_position, lb, ub)\n",
    "                    val = evaluate(candidate_position)  # Use the internal evaluate function\n",
    "                    if val < best_val:\n",
    "                        best_val = val\n",
    "                        best_pos = candidate_position\n",
    "            else:\n",
    "                # Tracing mode (simplified as random walk in this example)\n",
    "                positions[cat] += np.random.uniform(-1, 1, size=dim)\n",
    "                positions[cat] = np.clip(positions[cat], lb, ub)\n",
    "                val = evaluate(positions[cat])  # Use the internal evaluate function\n",
    "                if val < best_val:\n",
    "                    best_val = val\n",
    "                    best_pos = positions[cat]\n",
    "\n",
    "        if debug:\n",
    "            print(f\"Iteration {iteration}: Best Value = {best_val}\")\n",
    "\n",
    "    return best_pos, best_val"
   ]
  },
  {
   "cell_type": "code",
   "execution_count": 11,
   "metadata": {
    "id": "dI-hqeWVc98G"
   },
   "outputs": [
    {
     "name": "stdout",
     "output_type": "stream",
     "text": [
      "Optimal Position: [0.01024624 0.75670209 0.82309118 0.         0.         0.42836077\n",
      " 0.         0.42499585 0.         0.06602555 0.06087631 0.\n",
      " 0.16769662 0.20335766 0.07333386 0.99433989 0.1478437  0.17232111\n",
      " 0.12705389 0.23508414 0.         0.         0.33389725 0.14454\n",
      " 0.21316445]\n",
      "Objective Value at Optimal Position: 2.98670585962108\n"
     ]
    }
   ],
   "source": [
    "best_pos_cso, best_val_cso = cso(lb=lb, ub=ub, cats=15, maxiter=50)\n",
    "\n",
    "print(f\"Optimal Position: {best_pos_cso}\")\n",
    "print(f\"Objective Value at Optimal Position: {best_val_cso}\")"
   ]
  },
  {
   "cell_type": "markdown",
   "metadata": {
    "id": "oiMhM9xmdDFJ"
   },
   "source": [
    "# **Modeling**"
   ]
  },
  {
   "cell_type": "code",
   "execution_count": 12,
   "metadata": {
    "id": "HuWcVlqQjGR7"
   },
   "outputs": [],
   "source": [
    "def create_lstm_model(input_length, num_classes):\n",
    "    model = Sequential([\n",
    "        Embedding(input_dim=num_words, output_dim=300, input_length=input_length),\n",
    "        LSTM(256, dropout=0.2, recurrent_dropout=0.2),\n",
    "        Dense(num_classes, activation='softmax' if num_classes > 2 else 'sigmoid') # Gunakan 'sigmoid' untuk binary, 'softmax' untuk multiclass\n",
    "    ])\n",
    "    model.compile(optimizer='adam', loss='categorical_crossentropy' if num_classes > 2 else 'binary_crossentropy', metrics=['accuracy']) # Sesuaikan loss function\n",
    "    return model\n",
    "\n",
    "# Early stopping callback\n",
    "early_stopping = EarlyStopping(monitor='val_loss', patience=3, verbose=1, mode='min', restore_best_weights=True)"
   ]
  },
  {
   "cell_type": "markdown",
   "metadata": {
    "id": "nkdqyiVUfEzq"
   },
   "source": [
    "# LSTM"
   ]
  },
  {
   "cell_type": "code",
   "execution_count": 13,
   "metadata": {
    "id": "AF4MgIqijKn8"
   },
   "outputs": [
    {
     "name": "stdout",
     "output_type": "stream",
     "text": [
      "WARNING:tensorflow:From C:\\Users\\krist\\anaconda3\\Lib\\site-packages\\keras\\src\\backend.py:873: The name tf.get_default_graph is deprecated. Please use tf.compat.v1.get_default_graph instead.\n",
      "\n",
      "WARNING:tensorflow:From C:\\Users\\krist\\anaconda3\\Lib\\site-packages\\keras\\src\\optimizers\\__init__.py:309: The name tf.train.Optimizer is deprecated. Please use tf.compat.v1.train.Optimizer instead.\n",
      "\n",
      "Epoch 1/10\n",
      "WARNING:tensorflow:From C:\\Users\\krist\\anaconda3\\Lib\\site-packages\\keras\\src\\utils\\tf_utils.py:492: The name tf.ragged.RaggedTensorValue is deprecated. Please use tf.compat.v1.ragged.RaggedTensorValue instead.\n",
      "\n",
      "WARNING:tensorflow:From C:\\Users\\krist\\anaconda3\\Lib\\site-packages\\keras\\src\\engine\\base_layer_utils.py:384: The name tf.executing_eagerly_outside_functions is deprecated. Please use tf.compat.v1.executing_eagerly_outside_functions instead.\n",
      "\n",
      "50/50 [==============================] - 9s 131ms/step - loss: 0.5926 - accuracy: 0.6750 - val_loss: 0.4467 - val_accuracy: 0.8006\n",
      "Epoch 2/10\n",
      "50/50 [==============================] - 6s 126ms/step - loss: 0.2826 - accuracy: 0.8887 - val_loss: 0.3945 - val_accuracy: 0.8476\n",
      "Epoch 3/10\n",
      "50/50 [==============================] - 6s 125ms/step - loss: 0.1251 - accuracy: 0.9611 - val_loss: 0.4265 - val_accuracy: 0.8521\n",
      "Epoch 4/10\n",
      "50/50 [==============================] - 6s 120ms/step - loss: 0.0599 - accuracy: 0.9829 - val_loss: 0.5048 - val_accuracy: 0.8616\n",
      "Epoch 5/10\n",
      "50/50 [==============================] - 6s 124ms/step - loss: 0.0338 - accuracy: 0.9921 - val_loss: 0.5122 - val_accuracy: 0.8489\n",
      "Epoch 6/10\n",
      "50/50 [==============================] - 6s 122ms/step - loss: 0.0394 - accuracy: 0.9887 - val_loss: 0.6601 - val_accuracy: 0.8444\n",
      "Epoch 7/10\n",
      "50/50 [==============================] - 6s 123ms/step - loss: 0.0220 - accuracy: 0.9940 - val_loss: 0.7040 - val_accuracy: 0.8368\n",
      "Epoch 8/10\n",
      "50/50 [==============================] - 6s 125ms/step - loss: 0.0148 - accuracy: 0.9962 - val_loss: 0.7751 - val_accuracy: 0.8476\n",
      "Epoch 9/10\n",
      "50/50 [==============================] - 6s 122ms/step - loss: 0.0104 - accuracy: 0.9968 - val_loss: 0.8389 - val_accuracy: 0.8540\n",
      "Epoch 10/10\n",
      "50/50 [==============================] - 6s 123ms/step - loss: 0.0087 - accuracy: 0.9979 - val_loss: 0.9788 - val_accuracy: 0.8521\n",
      "62/62 [==============================] - 1s 13ms/step - loss: 1.0028 - accuracy: 0.8563\n",
      "Test Loss: 1.0028256177902222\n",
      "Test Accuracy: 0.8562722206115723\n",
      "Time Execution: 64.6077253818512\n"
     ]
    }
   ],
   "source": [
    "model_lstm = create_lstm_model(X_train.shape[1], y_train.shape[1])\n",
    "\n",
    "start_time_lstm = time.time()\n",
    "history_lstm = model_lstm.fit(X_train, y_train, validation_split=0.2, epochs=10, batch_size=128)\n",
    "end_time_lstm = time.time()\n",
    "time_execution_lstm = end_time_lstm - start_time_lstm\n",
    "\n",
    "# Evaluasi model\n",
    "loss_lstm, accuracy_lstm = model_lstm.evaluate(X_test, y_test)\n",
    "print(f\"Test Loss: {loss_lstm}\")\n",
    "print(f\"Test Accuracy: {accuracy_lstm}\")\n",
    "print(f\"Time Execution: {time_execution_lstm}\")"
   ]
  },
  {
   "cell_type": "code",
   "execution_count": 14,
   "metadata": {
    "tags": []
   },
   "outputs": [
    {
     "name": "stdout",
     "output_type": "stream",
     "text": [
      "62/62 [==============================] - 1s 13ms/step\n"
     ]
    },
    {
     "data": {
      "image/png": "[encoded data removed]",
      "text/plain": [
       "<Figure size 1000x700 with 2 Axes>"
      ]
     },
     "metadata": {},
     "output_type": "display_data"
    },
    {
     "name": "stdout",
     "output_type": "stream",
     "text": [
      "\n",
      "Classification Report:\n",
      "              precision    recall  f1-score   support\n",
      "\n",
      "           0       0.87      0.84      0.85       978\n",
      "           1       0.85      0.87      0.86       991\n",
      "\n",
      "    accuracy                           0.86      1969\n",
      "   macro avg       0.86      0.86      0.86      1969\n",
      "weighted avg       0.86      0.86      0.86      1969\n",
      "\n"
     ]
    }
   ],
   "source": [
    "# Lakukan prediksi\n",
    "predictions = model_lstm.predict(X_test)\n",
    "# Ubah prediksi dari one-hot encoding ke label kelas menggunakan numpy\n",
    "y_pred = np.argmax(predictions, axis=1)\n",
    "y_true = np.argmax(y_test, axis=1)\n",
    "\n",
    "# Hitung confusion matrix\n",
    "cm = confusion_matrix(y_true, y_pred)\n",
    "\n",
    "# Tampilkan confusion matrix menggunakan Seaborn\n",
    "plt.figure(figsize=(10, 7))\n",
    "sns.heatmap(cm, annot=True, fmt='d', cmap='Blues', xticklabels=['Negative', 'Neutral', 'Positive'], yticklabels=['Negative', 'Neutral', 'Positive'])\n",
    "plt.title('Confusion Matrix')\n",
    "plt.ylabel('True Label')\n",
    "plt.xlabel('Predicted Label')\n",
    "plt.show()\n",
    "\n",
    "print(\"\\nClassification Report:\")\n",
    "print(classification_report(y_true, y_pred))"
   ]
  },
  {
   "cell_type": "markdown",
   "metadata": {
    "id": "zY28ggTJezn8"
   },
   "source": [
    "# PSO-LSTM"
   ]
  },
  {
   "cell_type": "code",
   "execution_count": 15,
   "metadata": {
    "tags": []
   },
   "outputs": [
    {
     "name": "stdout",
     "output_type": "stream",
     "text": [
      "Epoch 1/10\n",
      "50/50 [==============================] - 6s 68ms/step - loss: 0.6466 - accuracy: 0.6299 - val_loss: 0.5917 - val_accuracy: 0.6844\n",
      "Epoch 2/10\n",
      "50/50 [==============================] - 3s 63ms/step - loss: 0.5023 - accuracy: 0.7612 - val_loss: 0.5896 - val_accuracy: 0.6705\n",
      "Epoch 3/10\n",
      "50/50 [==============================] - 3s 64ms/step - loss: 0.4089 - accuracy: 0.8084 - val_loss: 0.7315 - val_accuracy: 0.6737\n",
      "Epoch 4/10\n",
      "50/50 [==============================] - 3s 62ms/step - loss: 0.3405 - accuracy: 0.8408 - val_loss: 0.7306 - val_accuracy: 0.6756\n",
      "Epoch 5/10\n",
      "50/50 [==============================] - 3s 62ms/step - loss: 0.3013 - accuracy: 0.8549 - val_loss: 0.7714 - val_accuracy: 0.6756\n",
      "Epoch 6/10\n",
      "50/50 [==============================] - 3s 62ms/step - loss: 0.2806 - accuracy: 0.8654 - val_loss: 0.8982 - val_accuracy: 0.6787\n",
      "Epoch 7/10\n",
      "50/50 [==============================] - 3s 63ms/step - loss: 0.2590 - accuracy: 0.8778 - val_loss: 1.0192 - val_accuracy: 0.6806\n",
      "Epoch 8/10\n",
      "50/50 [==============================] - 3s 63ms/step - loss: 0.2455 - accuracy: 0.8786 - val_loss: 0.9883 - val_accuracy: 0.6724\n",
      "Epoch 9/10\n",
      "50/50 [==============================] - 3s 63ms/step - loss: 0.2359 - accuracy: 0.8860 - val_loss: 1.0660 - val_accuracy: 0.6832\n",
      "Epoch 10/10\n",
      "50/50 [==============================] - 3s 64ms/step - loss: 0.2302 - accuracy: 0.8889 - val_loss: 1.0425 - val_accuracy: 0.6787\n",
      "62/62 [==============================] - 0s 6ms/step - loss: 1.0516 - accuracy: 0.6932\n",
      "Test Loss: 1.0516338348388672\n",
      "Test Accuracy: 0.6932452917098999\n",
      "Time Execution: 33.970141649246216\n"
     ]
    }
   ],
   "source": [
    "# Asumsikan best_weights sudah ada\n",
    "selected_indices_pso = np.where(best_pos_pso > 0.5)[0]  # Ambil indeks dengan bobot > 0.5\n",
    "\n",
    "# Memfilter X_train dan X_test berdasarkan fitur terpilih\n",
    "X_train_selected_pso = X_train[:, selected_indices_pso]\n",
    "X_test_selected_pso = X_test[:, selected_indices_pso]\n",
    "\n",
    "model_pso_lstm = create_lstm_model(X_train_selected_pso.shape[1], y_train.shape[1])\n",
    "\n",
    "start_time_pso_lstm = time.time()\n",
    "history_pso_lstm = model_pso_lstm.fit(X_train_selected_pso, y_train, validation_split=0.2, epochs=10, batch_size=128)\n",
    "end_time_pso_lstm = time.time()\n",
    "time_execution_pso_lstm = end_time_pso_lstm - start_time_pso_lstm\n",
    "\n",
    "# Evaluasi model\n",
    "loss_pso_lstm, accuracy_pso_lstm = model_pso_lstm.evaluate(X_test_selected_pso, y_test)\n",
    "print(f\"Test Loss: {loss_pso_lstm}\")\n",
    "print(f\"Test Accuracy: {accuracy_pso_lstm}\")\n",
    "print(f\"Time Execution: {time_execution_pso_lstm}\")"
   ]
  },
  {
   "cell_type": "code",
   "execution_count": 16,
   "metadata": {
    "tags": []
   },
   "outputs": [
    {
     "name": "stdout",
     "output_type": "stream",
     "text": [
      "62/62 [==============================] - 1s 5ms/step\n"
     ]
    },
    {
     "data": {
      "image/png": "[encoded data removed]",
      "text/plain": [
       "<Figure size 1000x700 with 2 Axes>"
      ]
     },
     "metadata": {},
     "output_type": "display_data"
    },
    {
     "name": "stdout",
     "output_type": "stream",
     "text": [
      "\n",
      "Classification Report:\n",
      "              precision    recall  f1-score   support\n",
      "\n",
      "           0       0.66      0.80      0.72       978\n",
      "           1       0.75      0.59      0.66       991\n",
      "\n",
      "    accuracy                           0.69      1969\n",
      "   macro avg       0.70      0.69      0.69      1969\n",
      "weighted avg       0.70      0.69      0.69      1969\n",
      "\n"
     ]
    }
   ],
   "source": [
    "# Lakukan prediksi\n",
    "predictions = model_pso_lstm.predict(X_test_selected_pso)\n",
    "# Ubah prediksi dari one-hot encoding ke label kelas menggunakan numpy\n",
    "y_pred = np.argmax(predictions, axis=1)\n",
    "y_true = np.argmax(y_test, axis=1)\n",
    "\n",
    "# Hitung confusion matrix\n",
    "cm = confusion_matrix(y_true, y_pred)\n",
    "\n",
    "# Tampilkan confusion matrix menggunakan Seaborn\n",
    "plt.figure(figsize=(10, 7))\n",
    "sns.heatmap(cm, annot=True, fmt='d', cmap='Blues', xticklabels=['Negative', 'Neutral', 'Positive'], yticklabels=['Negative', 'Neutral', 'Positive'])\n",
    "plt.title('Confusion Matrix')\n",
    "plt.ylabel('True Label')\n",
    "plt.xlabel('Predicted Label')\n",
    "plt.show()\n",
    "\n",
    "print(\"\\nClassification Report:\")\n",
    "print(classification_report(y_true, y_pred))"
   ]
  },
  {
   "cell_type": "markdown",
   "metadata": {
    "id": "PzSNkG_2e8Mj",
    "tags": []
   },
   "source": [
    "# ACO-LSTM"
   ]
  },
  {
   "cell_type": "code",
   "execution_count": 17,
   "metadata": {
    "tags": []
   },
   "outputs": [
    {
     "name": "stdout",
     "output_type": "stream",
     "text": [
      "Epoch 1/10\n",
      "50/50 [==============================] - 5s 58ms/step - loss: 0.6521 - accuracy: 0.6271 - val_loss: 0.6247 - val_accuracy: 0.6648\n",
      "Epoch 2/10\n",
      "50/50 [==============================] - 3s 52ms/step - loss: 0.5659 - accuracy: 0.7092 - val_loss: 0.6026 - val_accuracy: 0.6610\n",
      "Epoch 3/10\n",
      "50/50 [==============================] - 3s 52ms/step - loss: 0.4751 - accuracy: 0.7665 - val_loss: 0.6552 - val_accuracy: 0.6590\n",
      "Epoch 4/10\n",
      "50/50 [==============================] - 3s 53ms/step - loss: 0.4318 - accuracy: 0.7785 - val_loss: 0.7286 - val_accuracy: 0.6552\n",
      "Epoch 5/10\n",
      "50/50 [==============================] - 2s 49ms/step - loss: 0.4036 - accuracy: 0.7901 - val_loss: 0.7772 - val_accuracy: 0.6546\n",
      "Epoch 6/10\n",
      "50/50 [==============================] - 2s 50ms/step - loss: 0.3911 - accuracy: 0.7966 - val_loss: 0.7818 - val_accuracy: 0.6571\n",
      "Epoch 7/10\n",
      "50/50 [==============================] - 2s 50ms/step - loss: 0.3796 - accuracy: 0.8036 - val_loss: 0.8984 - val_accuracy: 0.6584\n",
      "Epoch 8/10\n",
      "50/50 [==============================] - 3s 52ms/step - loss: 0.3692 - accuracy: 0.8071 - val_loss: 0.9844 - val_accuracy: 0.6660\n",
      "Epoch 9/10\n",
      "50/50 [==============================] - 3s 51ms/step - loss: 0.3620 - accuracy: 0.8070 - val_loss: 0.9492 - val_accuracy: 0.6635\n",
      "Epoch 10/10\n",
      "50/50 [==============================] - 2s 49ms/step - loss: 0.3603 - accuracy: 0.8114 - val_loss: 0.9844 - val_accuracy: 0.6616\n",
      "62/62 [==============================] - 0s 5ms/step - loss: 1.0526 - accuracy: 0.6460\n",
      "Test Loss: 1.052598476409912\n",
      "Test Accuracy: 0.6460132002830505\n",
      "Time Execution: 28.416101455688477\n"
     ]
    }
   ],
   "source": [
    "# Asumsikan best_weights sudah ada\n",
    "selected_indices_aco = np.where(best_pos_aco > 0.5)[0]  # Ambil indeks dengan bobot > 0.5\n",
    "\n",
    "# Memfilter X_train dan X_test berdasarkan fitur terpilih\n",
    "X_train_selected_aco = X_train[:, selected_indices_aco]\n",
    "X_test_selected_aco = X_test[:, selected_indices_aco]\n",
    "\n",
    "model_aco_lstm = create_lstm_model(X_train_selected_aco.shape[1], y_train.shape[1])\n",
    "\n",
    "start_time_aco_lstm = time.time()\n",
    "history_aco_lstm = model_aco_lstm.fit(X_train_selected_aco, y_train, validation_split=0.2, epochs=10, batch_size=128)\n",
    "end_time_aco_lstm = time.time()\n",
    "time_execution_aco_lstm = end_time_aco_lstm - start_time_aco_lstm\n",
    "\n",
    "# Evaluasi model\n",
    "loss_aco_lstm, accuracy_aco_lstm = model_aco_lstm.evaluate(X_test_selected_aco, y_test)\n",
    "print(f\"Test Loss: {loss_aco_lstm}\")\n",
    "print(f\"Test Accuracy: {accuracy_aco_lstm}\")\n",
    "print(f\"Time Execution: {time_execution_aco_lstm}\")"
   ]
  },
  {
   "cell_type": "code",
   "execution_count": 18,
   "metadata": {
    "tags": []
   },
   "outputs": [
    {
     "name": "stdout",
     "output_type": "stream",
     "text": [
      "62/62 [==============================] - 0s 4ms/step\n"
     ]
    },
    {
     "data": {
      "image/png": "[encoded data removed]",
      "text/plain": [
       "<Figure size 1000x700 with 2 Axes>"
      ]
     },
     "metadata": {},
     "output_type": "display_data"
    },
    {
     "name": "stdout",
     "output_type": "stream",
     "text": [
      "\n",
      "Classification Report:\n",
      "              precision    recall  f1-score   support\n",
      "\n",
      "           0       0.60      0.83      0.70       978\n",
      "           1       0.74      0.46      0.57       991\n",
      "\n",
      "    accuracy                           0.65      1969\n",
      "   macro avg       0.67      0.65      0.63      1969\n",
      "weighted avg       0.67      0.65      0.63      1969\n",
      "\n"
     ]
    }
   ],
   "source": [
    "# Lakukan prediksi\n",
    "predictions = model_aco_lstm.predict(X_test_selected_aco)\n",
    "# Ubah prediksi dari one-hot encoding ke label kelas menggunakan numpy\n",
    "y_pred = np.argmax(predictions, axis=1)\n",
    "y_true = np.argmax(y_test, axis=1)\n",
    "\n",
    "# Hitung confusion matrix\n",
    "cm = confusion_matrix(y_true, y_pred)\n",
    "\n",
    "# Tampilkan confusion matrix menggunakan Seaborn\n",
    "plt.figure(figsize=(10, 7))\n",
    "sns.heatmap(cm, annot=True, fmt='d', cmap='Blues', xticklabels=['Negative', 'Neutral', 'Positive'], yticklabels=['Negative', 'Neutral', 'Positive'])\n",
    "plt.title('Confusion Matrix')\n",
    "plt.ylabel('True Label')\n",
    "plt.xlabel('Predicted Label')\n",
    "plt.show()\n",
    "\n",
    "print(\"\\nClassification Report:\")\n",
    "print(classification_report(y_true, y_pred))"
   ]
  },
  {
   "cell_type": "markdown",
   "metadata": {
    "id": "wX8D2xXle8bx"
   },
   "source": [
    "# CSO-LSTM"
   ]
  },
  {
   "cell_type": "code",
   "execution_count": 19,
   "metadata": {
    "tags": []
   },
   "outputs": [
    {
     "name": "stdout",
     "output_type": "stream",
     "text": [
      "Epoch 1/10\n",
      "50/50 [==============================] - 4s 39ms/step - loss: 0.6747 - accuracy: 0.5957 - val_loss: 0.6485 - val_accuracy: 0.6463\n",
      "Epoch 2/10\n",
      "50/50 [==============================] - 2s 34ms/step - loss: 0.6207 - accuracy: 0.6555 - val_loss: 0.6312 - val_accuracy: 0.6546\n",
      "Epoch 3/10\n",
      "50/50 [==============================] - 2s 34ms/step - loss: 0.5650 - accuracy: 0.7017 - val_loss: 0.6467 - val_accuracy: 0.6483\n",
      "Epoch 4/10\n",
      "50/50 [==============================] - 2s 34ms/step - loss: 0.5314 - accuracy: 0.7071 - val_loss: 0.6668 - val_accuracy: 0.6425\n",
      "Epoch 5/10\n",
      "50/50 [==============================] - 2s 34ms/step - loss: 0.5192 - accuracy: 0.7069 - val_loss: 0.6845 - val_accuracy: 0.6483\n",
      "Epoch 6/10\n",
      "50/50 [==============================] - 2s 35ms/step - loss: 0.5131 - accuracy: 0.7120 - val_loss: 0.6942 - val_accuracy: 0.6489\n",
      "Epoch 7/10\n",
      "50/50 [==============================] - 2s 35ms/step - loss: 0.5074 - accuracy: 0.7127 - val_loss: 0.6978 - val_accuracy: 0.6406\n",
      "Epoch 8/10\n",
      "50/50 [==============================] - 2s 36ms/step - loss: 0.5027 - accuracy: 0.7149 - val_loss: 0.7046 - val_accuracy: 0.6419\n",
      "Epoch 9/10\n",
      "50/50 [==============================] - 2s 35ms/step - loss: 0.4991 - accuracy: 0.7133 - val_loss: 0.7155 - val_accuracy: 0.6489\n",
      "Epoch 10/10\n",
      "50/50 [==============================] - 2s 34ms/step - loss: 0.4976 - accuracy: 0.7169 - val_loss: 0.7270 - val_accuracy: 0.6483\n",
      "62/62 [==============================] - 0s 2ms/step - loss: 0.7661 - accuracy: 0.6277\n",
      "Test Loss: 0.7660935521125793\n",
      "Test Accuracy: 0.6277298331260681\n",
      "Time Execution: 19.8709397315979\n"
     ]
    }
   ],
   "source": [
    "# Asumsikan best_weights sudah ada\n",
    "selected_indices_cso = np.where(best_pos_cso > 0.5)[0]  # Ambil indeks dengan bobot > 0.5\n",
    "\n",
    "# Memfilter X_train dan X_test berdasarkan fitur terpilih\n",
    "X_train_selected_cso = X_train[:, selected_indices_cso]\n",
    "X_test_selected_cso = X_test[:, selected_indices_cso]\n",
    "\n",
    "model_cso_lstm = create_lstm_model(X_train_selected_cso.shape[1], y_train.shape[1])\n",
    "\n",
    "start_time_cso_lstm = time.time()\n",
    "history_cso_lstm = model_cso_lstm.fit(X_train_selected_cso, y_train, validation_split=0.2, epochs=10, batch_size=128)\n",
    "end_time_cso_lstm = time.time()\n",
    "time_execution_cso_lstm = end_time_cso_lstm - start_time_cso_lstm\n",
    "\n",
    "# Evaluasi model\n",
    "loss_cso_lstm, accuracy_cso_lstm = model_cso_lstm.evaluate(X_test_selected_cso, y_test)\n",
    "print(f\"Test Loss: {loss_cso_lstm}\")\n",
    "print(f\"Test Accuracy: {accuracy_cso_lstm}\")\n",
    "print(f\"Time Execution: {time_execution_cso_lstm}\")"
   ]
  },
  {
   "cell_type": "code",
   "execution_count": 20,
   "metadata": {
    "tags": []
   },
   "outputs": [
    {
     "name": "stdout",
     "output_type": "stream",
     "text": [
      "62/62 [==============================] - 0s 2ms/step\n"
     ]
    },
    {
     "data": {
      "image/png": "[encoded data removed]",
      "text/plain": [
       "<Figure size 1000x700 with 2 Axes>"
      ]
     },
     "metadata": {},
     "output_type": "display_data"
    },
    {
     "name": "stdout",
     "output_type": "stream",
     "text": [
      "\n",
      "Classification Report:\n",
      "              precision    recall  f1-score   support\n",
      "\n",
      "           0       0.59      0.82      0.69       978\n",
      "           1       0.71      0.44      0.54       991\n",
      "\n",
      "    accuracy                           0.63      1969\n",
      "   macro avg       0.65      0.63      0.61      1969\n",
      "weighted avg       0.65      0.63      0.61      1969\n",
      "\n"
     ]
    }
   ],
   "source": [
    "# Lakukan prediksi\n",
    "predictions = model_cso_lstm.predict(X_test_selected_cso)\n",
    "# Ubah prediksi dari one-hot encoding ke label kelas menggunakan numpy\n",
    "y_pred = np.argmax(predictions, axis=1)\n",
    "y_true = np.argmax(y_test, axis=1)\n",
    "\n",
    "# Hitung confusion matrix\n",
    "cm = confusion_matrix(y_true, y_pred)\n",
    "\n",
    "# Tampilkan confusion matrix menggunakan Seaborn\n",
    "plt.figure(figsize=(10, 7))\n",
    "sns.heatmap(cm, annot=True, fmt='d', cmap='Blues', xticklabels=['Negative', 'Neutral', 'Positive'], yticklabels=['Negative', 'Neutral', 'Positive'])\n",
    "plt.title('Confusion Matrix')\n",
    "plt.ylabel('True Label')\n",
    "plt.xlabel('Predicted Label')\n",
    "plt.show()\n",
    "\n",
    "print(\"\\nClassification Report:\")\n",
    "print(classification_report(y_true, y_pred))"
   ]
  },
  {
   "cell_type": "code",
   "execution_count": 21,
   "metadata": {
    "tags": []
   },
   "outputs": [
    {
     "data": {
      "text/plain": [
       "25"
      ]
     },
     "execution_count": 21,
     "metadata": {},
     "output_type": "execute_result"
    }
   ],
   "source": [
    "dim"
   ]
  },
  {
   "cell_type": "code",
   "execution_count": 22,
   "metadata": {
    "tags": []
   },
   "outputs": [
    {
     "data": {
      "text/plain": [
       "[0, 0, 0, 0, 0, 0, 0, 0, 0, 0, 0, 0, 0, 0, 0, 0, 0, 0, 0, 0, 0, 0, 0, 0, 0]"
      ]
     },
     "execution_count": 22,
     "metadata": {},
     "output_type": "execute_result"
    }
   ],
   "source": [
    "lb"
   ]
  },
  {
   "cell_type": "code",
   "execution_count": 23,
   "metadata": {
    "tags": []
   },
   "outputs": [
    {
     "data": {
      "text/plain": [
       "[1, 1, 1, 1, 1, 1, 1, 1, 1, 1, 1, 1, 1, 1, 1, 1, 1, 1, 1, 1, 1, 1, 1, 1, 1]"
      ]
     },
     "execution_count": 23,
     "metadata": {},
     "output_type": "execute_result"
    }
   ],
   "source": [
    "ub"
   ]
  },
  {
   "cell_type": "code",
   "execution_count": null,
   "metadata": {},
   "outputs": [],
   "source": []
  }
 ],
 "metadata": {
  "accelerator": "TPU",
  "colab": {
   "provenance": []
  },
  "kernelspec": {
   "display_name": "Python 3 (ipykernel)",
   "language": "python",
   "name": "python3"
  },
  "language_info": {
   "codemirror_mode": {
    "name": "ipython",
    "version": 3
   },
   "file_extension": ".py",
   "mimetype": "text/x-python",
   "name": "python",
   "nbconvert_exporter": "python",
   "pygments_lexer": "ipython3",
   "version": "3.11.5"
  }
 },
 "nbformat": 4,
 "nbformat_minor": 4
}

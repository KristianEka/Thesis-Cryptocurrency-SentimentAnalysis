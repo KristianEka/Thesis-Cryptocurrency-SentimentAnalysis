{
 "cells": [
  {
   "cell_type": "code",
   "execution_count": 1,
   "id": "2fca1a1e-9e32-4fad-87f9-fde05edeeec8",
   "metadata": {
    "tags": []
   },
   "outputs": [
    {
     "name": "stdout",
     "output_type": "stream",
     "text": [
      "WARNING:tensorflow:From C:\\Users\\krist\\anaconda3\\Lib\\site-packages\\keras\\src\\losses.py:2976: The name tf.losses.sparse_softmax_cross_entropy is deprecated. Please use tf.compat.v1.losses.sparse_softmax_cross_entropy instead.\n",
      "\n"
     ]
    }
   ],
   "source": [
    "# Essential Libraries\n",
    "import time\n",
    "import pandas as pd\n",
    "import numpy as np\n",
    "import matplotlib.pyplot as plt\n",
    "import seaborn as sns\n",
    "\n",
    "# Machine Learning and Deep Learning Libraries\n",
    "from sklearn.model_selection import train_test_split\n",
    "from tensorflow.keras.preprocessing.text import Tokenizer\n",
    "from tensorflow.keras.preprocessing.sequence import pad_sequences\n",
    "from tensorflow.keras.utils import to_categorical\n",
    "from tensorflow.keras.models import Sequential\n",
    "from tensorflow.keras.layers import Embedding, LSTM, Dense, Dropout\n",
    "from tensorflow.keras.regularizers import l1_l2\n",
    "from tensorflow.keras.callbacks import EarlyStopping\n",
    "from sklearn.preprocessing import LabelEncoder\n",
    "from sklearn.feature_extraction.text import TfidfVectorizer\n",
    "from sklearn.metrics import accuracy_score, roc_auc_score, confusion_matrix, classification_report\n",
    "\n",
    "# Swarm Intelligence\n",
    "# !pip install pyswarms\n",
    "from pyswarm import pso\n",
    "from pyswarms.single.global_best import GlobalBestPSO\n",
    "\n",
    "# Statistical Test\n",
    "from scipy.stats import shapiro, f_oneway, kruskal"
   ]
  },
  {
   "cell_type": "code",
   "execution_count": 2,
   "id": "034e6713-592a-4bad-aab0-896b17164490",
   "metadata": {
    "tags": []
   },
   "outputs": [
    {
     "name": "stdout",
     "output_type": "stream",
     "text": [
      "LSTM: Statistics=0.879, p=0.306\n",
      "Sample looks Gaussian (normal distribution).\n",
      "PSO-LSTM: Statistics=0.979, p=0.928\n",
      "Sample looks Gaussian (normal distribution).\n",
      "ACO-LSTM: Statistics=0.954, p=0.764\n",
      "Sample looks Gaussian (normal distribution).\n",
      "CSO-LSTM: Statistics=0.928, p=0.580\n",
      "Sample looks Gaussian (normal distribution).\n"
     ]
    }
   ],
   "source": [
    "# Data akurasi contoh untuk 4 model (5 akurasi terkahir saat validation)\n",
    "losses = {\n",
    "    \"LSTM\": [0.8572, 0.7770, 0.7568, 0.6024, 0.5999],\n",
    "    \"PSO-LSTM\": [0.5525, 0.5121, 0.4959, 0.4553, 0.4314],\n",
    "    \"ACO-LSTM\": [0.5540, 0.5330, 0.5049, 0.4690, 0.4523],\n",
    "    \"CSO-LSTM\": [0.6152, 0.5586, 0.5234, 0.5110, 0.4914]\n",
    "}\n",
    "\n",
    "# Cek normalitas untuk setiap model\n",
    "for model, scores in losses.items():\n",
    "    stat, p = shapiro(scores)\n",
    "    print(f\"{model}: Statistics={stat:.3f}, p={p:.3f}\")\n",
    "    if p > 0.05:\n",
    "        print(\"Sample looks Gaussian (normal distribution).\")\n",
    "    else:\n",
    "        print(\"Sample does not look Gaussian (non-normal distribution).\")"
   ]
  },
  {
   "cell_type": "code",
   "execution_count": 4,
   "id": "ca5d4153-7d0b-4064-a24e-c31ac1ecdb22",
   "metadata": {
    "tags": []
   },
   "outputs": [
    {
     "name": "stdout",
     "output_type": "stream",
     "text": [
      "ANOVA test: Statistics=11.644, p=0.000\n",
      "Ada perbedaan yang signifikan.\n"
     ]
    }
   ],
   "source": [
    "# Ekstrak nilai akurasi\n",
    "los_values = list(losses.values())\n",
    "\n",
    "# Uji ANOVA\n",
    "stat, p = f_oneway(*los_values)\n",
    "print(f\"ANOVA test: Statistics={stat:.3f}, p={p:.3f}\")\n",
    "if p > 0.05:\n",
    "    print(\"Tidak ada perbedaan yang signifikan.\")\n",
    "else:\n",
    "    print(\"Ada perbedaan yang signifikan.\")"
   ]
  },
  {
   "cell_type": "code",
   "execution_count": 5,
   "id": "f105f091-1312-4039-aa6d-0f4c26e4b08f",
   "metadata": {
    "tags": []
   },
   "outputs": [
    {
     "name": "stdout",
     "output_type": "stream",
     "text": [
      "LSTM: Statistics=1.000, p=1.000\n",
      "Sample looks Gaussian (normal distribution).\n",
      "PSO-LSTM: Statistics=1.000, p=1.000\n",
      "Sample looks Gaussian (normal distribution).\n",
      "ACO-LSTM: Statistics=1.000, p=1.000\n",
      "Sample looks Gaussian (normal distribution).\n",
      "CSO-LSTM: Statistics=1.000, p=1.000\n",
      "Sample looks Gaussian (normal distribution).\n"
     ]
    },
    {
     "name": "stderr",
     "output_type": "stream",
     "text": [
      "C:\\Users\\krist\\anaconda3\\Lib\\site-packages\\scipy\\stats\\_morestats.py:1879: UserWarning: Input data for shapiro has range zero. The results may not be accurate.\n",
      "  warnings.warn(\"Input data for shapiro has range zero. The results \"\n"
     ]
    }
   ],
   "source": [
    "# Data akurasi contoh untuk 4 model (5 akurasi terkahir saat validation)\n",
    "times = {\n",
    "    \"LSTM\": [14, 14, 14, 14, 14],\n",
    "    \"PSO-LSTM\": [6, 6, 6, 6, 6],\n",
    "    \"ACO-LSTM\": [5, 5, 5, 5, 5],\n",
    "    \"CSO-LSTM\": [6, 6, 6, 6, 6]\n",
    "}\n",
    "\n",
    "# Cek normalitas untuk setiap model\n",
    "for model, scores in times.items():\n",
    "    stat, p = shapiro(scores)\n",
    "    print(f\"{model}: Statistics={stat:.3f}, p={p:.3f}\")\n",
    "    if p > 0.05:\n",
    "        print(\"Sample looks Gaussian (normal distribution).\")\n",
    "    else:\n",
    "        print(\"Sample does not look Gaussian (non-normal distribution).\")"
   ]
  },
  {
   "cell_type": "code",
   "execution_count": 6,
   "id": "f13052d7-e835-4f6f-bf75-55cf88b00c06",
   "metadata": {
    "tags": []
   },
   "outputs": [
    {
     "name": "stdout",
     "output_type": "stream",
     "text": [
      "ANOVA test: Statistics=inf, p=0.000\n",
      "Ada perbedaan yang signifikan.\n"
     ]
    },
    {
     "name": "stderr",
     "output_type": "stream",
     "text": [
      "C:\\Users\\krist\\anaconda3\\Lib\\site-packages\\scipy\\stats\\_stats_py.py:4167: ConstantInputWarning: Each of the input arrays is constant;the F statistic is not defined or infinite\n",
      "  warnings.warn(stats.ConstantInputWarning(msg))\n"
     ]
    }
   ],
   "source": [
    "# Ekstrak nilai akurasi\n",
    "times_values = list(times.values())\n",
    "\n",
    "# Uji ANOVA\n",
    "stat, p = f_oneway(*times_values)\n",
    "print(f\"ANOVA test: Statistics={stat:.3f}, p={p:.3f}\")\n",
    "if p > 0.05:\n",
    "    print(\"Tidak ada perbedaan yang signifikan.\")\n",
    "else:\n",
    "    print(\"Ada perbedaan yang signifikan.\")"
   ]
  }
 ],
 "metadata": {
  "kernelspec": {
   "display_name": "Python 3 (ipykernel)",
   "language": "python",
   "name": "python3"
  },
  "language_info": {
   "codemirror_mode": {
    "name": "ipython",
    "version": 3
   },
   "file_extension": ".py",
   "mimetype": "text/x-python",
   "name": "python",
   "nbconvert_exporter": "python",
   "pygments_lexer": "ipython3",
   "version": "3.11.5"
  }
 },
 "nbformat": 4,
 "nbformat_minor": 5
}

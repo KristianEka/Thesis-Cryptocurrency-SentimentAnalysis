{
 "cells": [
  {
   "cell_type": "markdown",
   "metadata": {
    "id": "thhABeprZU60"
   },
   "source": [
    "# **Library Installation**"
   ]
  },
  {
   "cell_type": "code",
   "execution_count": 21,
   "metadata": {
    "id": "arGsYkHVZI2L"
   },
   "outputs": [],
   "source": [
    "# Library\n",
    "import time\n",
    "import pandas as pd\n",
    "import numpy as np\n",
    "from sklearn.model_selection import train_test_split\n",
    "from tensorflow.keras.preprocessing.text import Tokenizer\n",
    "from tensorflow.keras.preprocessing.sequence import pad_sequences\n",
    "from tensorflow.keras.utils import to_categorical\n",
    "from tensorflow.keras.models import Sequential\n",
    "from tensorflow.keras.layers import Embedding, LSTM, Dense, Dropout\n",
    "from tensorflow.keras.regularizers import l1_l2\n",
    "from tensorflow.keras.callbacks import EarlyStopping\n",
    "from sklearn.preprocessing import LabelEncoder"
   ]
  },
  {
   "cell_type": "code",
   "execution_count": 22,
   "metadata": {
    "id": "H6am0RGdaUx5"
   },
   "outputs": [],
   "source": [
    "# Set seed\n",
    "np.random.seed(42)"
   ]
  },
  {
   "cell_type": "markdown",
   "metadata": {
    "id": "0CjzRXABZXxS"
   },
   "source": [
    "# **Read Data**"
   ]
  },
  {
   "cell_type": "code",
   "execution_count": 23,
   "metadata": {
    "colab": {
     "base_uri": "https://localhost:8080/",
     "height": 423
    },
    "id": "OwGurEKXZZFM",
    "outputId": "3ce984e4-b6cb-4c02-808b-eaf4328beca3"
   },
   "outputs": [
    {
     "data": {
      "text/html": [
       "<div>\n",
       "<style scoped>\n",
       "    .dataframe tbody tr th:only-of-type {\n",
       "        vertical-align: middle;\n",
       "    }\n",
       "\n",
       "    .dataframe tbody tr th {\n",
       "        vertical-align: top;\n",
       "    }\n",
       "\n",
       "    .dataframe thead th {\n",
       "        text-align: right;\n",
       "    }\n",
       "</style>\n",
       "<table border=\"1\" class=\"dataframe\">\n",
       "  <thead>\n",
       "    <tr style=\"text-align: right;\">\n",
       "      <th></th>\n",
       "      <th>full_text</th>\n",
       "      <th>processed_text</th>\n",
       "      <th>vader_sentiment</th>\n",
       "    </tr>\n",
       "  </thead>\n",
       "  <tbody>\n",
       "    <tr>\n",
       "      <th>0</th>\n",
       "      <td>'Token: $GROK24 - Grok 2024 Network: Ethereum ...</td>\n",
       "      <td>token grok grok network ethereum contract xccc...</td>\n",
       "      <td>Positive</td>\n",
       "    </tr>\n",
       "    <tr>\n",
       "      <th>1</th>\n",
       "      <td>@metaversejoji Let's check @SolanaMono $SOL #W...</td>\n",
       "      <td>let check sol</td>\n",
       "      <td>Negative</td>\n",
       "    </tr>\n",
       "    <tr>\n",
       "      <th>2</th>\n",
       "      <td>Day's DCA: $BTC, $ATOM, $DVPN, $AXL, $JKL, $HU...</td>\n",
       "      <td>day dca btc atom dvpn axl jkl huahua</td>\n",
       "      <td>Negative</td>\n",
       "    </tr>\n",
       "    <tr>\n",
       "      <th>3</th>\n",
       "      <td>@BorkSOL @Cerita_Crypto @solana @aeyakovenko Y...</td>\n",
       "      <td>project really amazing thats followed send please</td>\n",
       "      <td>Positive</td>\n",
       "    </tr>\n",
       "    <tr>\n",
       "      <th>4</th>\n",
       "      <td>👉 WL FOR .0 SOL MINT 👈 👉40 HOURS TILL SNAPSHOT...</td>\n",
       "      <td>sol mint hour till snapshot requirement join d...</td>\n",
       "      <td>Positive</td>\n",
       "    </tr>\n",
       "    <tr>\n",
       "      <th>...</th>\n",
       "      <td>...</td>\n",
       "      <td>...</td>\n",
       "      <td>...</td>\n",
       "    </tr>\n",
       "    <tr>\n",
       "      <th>9879</th>\n",
       "      <td>CyberKong VX #11328 was adopted for  0.18 $ETH...</td>\n",
       "      <td>cyberkong adopted eth blur</td>\n",
       "      <td>Negative</td>\n",
       "    </tr>\n",
       "    <tr>\n",
       "      <th>9880</th>\n",
       "      <td>BULLISH ON SOLANA BULLISH ON JUP BULLISH ON MA...</td>\n",
       "      <td>bullish solana bullish jup bullish madlads</td>\n",
       "      <td>Negative</td>\n",
       "    </tr>\n",
       "    <tr>\n",
       "      <th>9881</th>\n",
       "      <td>@naija_bitcoin 🍿🍿🍿🍿🍿 rd to 3k before valentine...</td>\n",
       "      <td>valentine</td>\n",
       "      <td>Negative</td>\n",
       "    </tr>\n",
       "    <tr>\n",
       "      <th>9882</th>\n",
       "      <td>Binance Futures #KLAY/ #USDT Take-Profit targe...</td>\n",
       "      <td>binance future takeprofit target profit period...</td>\n",
       "      <td>Positive</td>\n",
       "    </tr>\n",
       "    <tr>\n",
       "      <th>9883</th>\n",
       "      <td>@Ta_hmid @Starknet You most likely in the luck...</td>\n",
       "      <td>likely lucky one</td>\n",
       "      <td>Positive</td>\n",
       "    </tr>\n",
       "  </tbody>\n",
       "</table>\n",
       "<p>9843 rows × 3 columns</p>\n",
       "</div>"
      ],
      "text/plain": [
       "                                              full_text  \\\n",
       "0     'Token: $GROK24 - Grok 2024 Network: Ethereum ...   \n",
       "1     @metaversejoji Let's check @SolanaMono $SOL #W...   \n",
       "2     Day's DCA: $BTC, $ATOM, $DVPN, $AXL, $JKL, $HU...   \n",
       "3     @BorkSOL @Cerita_Crypto @solana @aeyakovenko Y...   \n",
       "4     👉 WL FOR .0 SOL MINT 👈 👉40 HOURS TILL SNAPSHOT...   \n",
       "...                                                 ...   \n",
       "9879  CyberKong VX #11328 was adopted for  0.18 $ETH...   \n",
       "9880  BULLISH ON SOLANA BULLISH ON JUP BULLISH ON MA...   \n",
       "9881  @naija_bitcoin 🍿🍿🍿🍿🍿 rd to 3k before valentine...   \n",
       "9882  Binance Futures #KLAY/ #USDT Take-Profit targe...   \n",
       "9883  @Ta_hmid @Starknet You most likely in the luck...   \n",
       "\n",
       "                                         processed_text vader_sentiment  \n",
       "0     token grok grok network ethereum contract xccc...        Positive  \n",
       "1                                         let check sol        Negative  \n",
       "2                  day dca btc atom dvpn axl jkl huahua        Negative  \n",
       "3     project really amazing thats followed send please        Positive  \n",
       "4     sol mint hour till snapshot requirement join d...        Positive  \n",
       "...                                                 ...             ...  \n",
       "9879                         cyberkong adopted eth blur        Negative  \n",
       "9880         bullish solana bullish jup bullish madlads        Negative  \n",
       "9881                                          valentine        Negative  \n",
       "9882  binance future takeprofit target profit period...        Positive  \n",
       "9883                                   likely lucky one        Positive  \n",
       "\n",
       "[9843 rows x 3 columns]"
      ]
     },
     "metadata": {},
     "output_type": "display_data"
    }
   ],
   "source": [
    "# Load dataset\n",
    "df = pd.read_excel('XCleanCryptocurrencyDataset.xlsx', index_col=0)\n",
    "display(df)"
   ]
  },
  {
   "cell_type": "markdown",
   "metadata": {
    "id": "iK96gIM6ZcpR"
   },
   "source": [
    "# **Data Splitting**"
   ]
  },
  {
   "cell_type": "code",
   "execution_count": 24,
   "metadata": {
    "id": "2qZ8YkqjZhMl"
   },
   "outputs": [],
   "source": [
    "# Asumsikan df adalah DataFrame Anda yang sudah dimuat\n",
    "X = df['processed_text']  # Kolom teks yang sudah diproses\n",
    "y = df['vader_sentiment']  # Target/Label\n",
    "\n",
    "# Encoding target\n",
    "label_encoder = LabelEncoder()\n",
    "y_encoded = label_encoder.fit_transform(y)\n",
    "y_categorical = to_categorical(y_encoded)\n",
    "\n",
    "# Tokenisasi dan pembuatan sequences\n",
    "tokenizer = Tokenizer(num_words=5000)\n",
    "tokenizer.fit_on_texts(X)\n",
    "sequences = tokenizer.texts_to_sequences(X)\n",
    "X_padded = pad_sequences(sequences, maxlen=100)  # Sesuaikan maxlen sesuai dengan kebutuhan\n",
    "\n",
    "# Splitting data\n",
    "X_train, X_test, y_train, y_test = train_test_split(X_padded, y_categorical, test_size=0.2, random_state=42)\n",
    "\n",
    "# Batasan feature selection\n",
    "dim = X_train.shape[1]  # Jumlah token maksimal dalam sequences\n",
    "lb = [0] * dim\n",
    "ub = [1] * dim"
   ]
  },
  {
   "cell_type": "markdown",
   "metadata": {
    "id": "3iwrBTfWZgMM"
   },
   "source": [
    "# **Feature Selection**"
   ]
  },
  {
   "cell_type": "code",
   "execution_count": 25,
   "metadata": {
    "id": "UXF-R-Tccn71"
   },
   "outputs": [],
   "source": [
    "def objective_function(weights):\n",
    "    # Memilih fitur berdasarkan bobot feature selection\n",
    "    # Dalam konteks ini, weights akan menentukan embedding tokens yang akan digunakan\n",
    "    selected_indices = np.where(weights > 0.5)[0]\n",
    "    X_train_selected = X_train[:, selected_indices]\n",
    "    X_test_selected = X_test[:, selected_indices]\n",
    "\n",
    "    # Definisikan dan latih model LSTM di sini\n",
    "    model = Sequential([\n",
    "        Embedding(input_dim=5000, output_dim=300, input_length=len(selected_indices)),  # Sesuaikan parameter\n",
    "        LSTM(256, dropout=0.2, recurrent_dropout=0.2),\n",
    "        Dense(y_train.shape[1], activation='sigmoid')\n",
    "    ])\n",
    "    model.compile(optimizer='adam', loss='binary_crossentropy', metrics=['accuracy'])\n",
    "    \n",
    "    start_time = time.time()\n",
    "    model.fit(X_train_selected, y_train, epochs=10, batch_size=128, verbose=0)  # Kurangi epoch untuk kecepatan\n",
    "    end_time = time.time()\n",
    "    time_execution = end_time - start_time\n",
    "\n",
    "    # Evaluasi model\n",
    "    loss, accuracy = model.evaluate(X_test_selected, y_test, verbose=0)\n",
    "    return -accuracy, loss, time_execution  # Negatif karena kita ingin memaksimalkan akurasi"
   ]
  },
  {
   "cell_type": "markdown",
   "metadata": {
    "id": "shMg_07NbzFn"
   },
   "source": [
    "# Particle Swarm Optimization (PSO)"
   ]
  },
  {
   "cell_type": "code",
   "execution_count": 28,
   "metadata": {
    "id": "nWY9-wy8btjk"
   },
   "outputs": [],
   "source": [
    "def pso(func, lb, ub, ieqcons=[], f_ieqcons=None, args=(), kwargs={}, swarmsize=100, omega=0.5, phip=0.5, phig=0.5, maxiter=100, minstep=1e-8, minfunc=1e-8, debug=False):\n",
    "    \"\"\"\n",
    "    Perform a particle swarm optimization (PSO)\n",
    "\n",
    "    Parameters:\n",
    "    - func: function to be minimized\n",
    "    - lb: lower bounds of the design variables\n",
    "    - ub: upper bounds of the design variables\n",
    "    - ieqcons: list of inequality constraint functions (optional)\n",
    "    - f_ieqcons: function returning a list of inequality constraints (optional)\n",
    "    - args: additional arguments passed to func and f_ieqcons\n",
    "    - kwargs: additional keyword arguments passed to func and f_ieqcons\n",
    "    - swarmsize: number of particles in the swarm\n",
    "    - omega: particle velocity scaling factor\n",
    "    - phip: scaling factor to search away from the particle's best known position\n",
    "    - phig: scaling factor to search away from the swarm's best known position\n",
    "    - maxiter: maximum number of iterations\n",
    "    - minstep: minimum step size of swarm's best position before the search terminates\n",
    "    - minfunc: minimum change of swarm's best objective value before the search terminates\n",
    "    - debug: if True, progress statements will be displayed every iteration\n",
    "\n",
    "    Returns:\n",
    "    - g: the swarm's best known position (optimal design)\n",
    "    - f: the objective value at g\n",
    "    \"\"\"\n",
    "    dim = len(lb)\n",
    "    # Initialize the particle positions and their velocities\n",
    "    positions = np.random.uniform(low=lb, high=ub, size=(swarmsize, dim))\n",
    "    velocities = np.zeros((swarmsize, dim))\n",
    "    # Initialize the global and local best positions\n",
    "    personal_best_positions = positions.copy()\n",
    "    personal_best_values = np.array([np.inf for _ in range(swarmsize)])\n",
    "    global_best_value = np.inf\n",
    "    global_best_position = None\n",
    "\n",
    "    for iteration in range(maxiter):\n",
    "        # Update velocities and positions\n",
    "        for i in range(swarmsize):\n",
    "            r_p, r_g = np.random.rand(dim), np.random.rand(dim)\n",
    "            velocities[i] = omega * velocities[i] + \\\n",
    "                            phip * r_p * (personal_best_positions[i] - positions[i]) + \\\n",
    "                            phig * r_g * (global_best_position - positions[i]) if global_best_position is not None else 0\n",
    "            positions[i] += velocities[i]\n",
    "            positions[i] = np.clip(positions[i], lb, ub)  # Keep within bounds\n",
    "\n",
    "            # Evaluate the fitness\n",
    "            value = func(positions[i], *args, **kwargs)\n",
    "            # Update the personal best\n",
    "            if value[0] < personal_best_values[i]:\n",
    "                personal_best_positions[i] = positions[i]\n",
    "                personal_best_values[i] = value[0]\n",
    "            # Update the global best\n",
    "            if value[0] < global_best_value:\n",
    "                global_best_position = positions[i]\n",
    "                global_best_value = value[0]\n",
    "\n",
    "        if debug:\n",
    "            print(f\"Iteration {iteration}: Best Value = {global_best_value}\")\n",
    "\n",
    "        # Check for early stopping criteria\n",
    "        if np.abs(global_best_value - personal_best_values.min()) < minfunc or np.linalg.norm(velocities.max()) < minstep:\n",
    "            break\n",
    "\n",
    "    return global_best_position, global_best_value, value[1], value[2] #value 1 loss, value 2 time exec"
   ]
  },
  {
   "cell_type": "code",
   "execution_count": 29,
   "metadata": {
    "colab": {
     "base_uri": "https://localhost:8080/",
     "height": 339
    },
    "id": "_o1iOoe0cev3",
    "outputId": "942c92dc-b087-4127-908c-646e16de8f7e"
   },
   "outputs": [],
   "source": [
    "# Jalankan PSO\n",
    "best_solution_pso, best_score_pso, loss_pso, times_pso = pso(func=objective_function, lb=lb, ub=ub, swarmsize=15, maxiter=50)  # Kurangi untuk kecepatan\n"
   ]
  },
  {
   "cell_type": "code",
   "execution_count": 42,
   "metadata": {
    "tags": []
   },
   "outputs": [
    {
     "name": "stdout",
     "output_type": "stream",
     "text": [
      "Best PSO-LSTM Solution: [0.56667511 0.06194734 0.6740345  0.31378824 0.09530371 0.51737825\n",
      " 0.11498634 0.27555207 0.68306099 0.24752921 0.70062825 0.06438129\n",
      " 0.33472305 0.50956819 0.33610333 0.35151045 0.36165921 0.31491021\n",
      " 0.55142646 0.33400724 0.70102802 0.49601811 0.44299027 0.78433151\n",
      " 0.34930156 0.94452619 0.15605049 0.72189799 0.47133042 0.59198462\n",
      " 0.62300931 0.73323702 0.04437994 0.17035785 0.7979885  0.61472971\n",
      " 0.77087226 0.74304677 0.79352928 0.4602397  0.38548844 0.13293633\n",
      " 0.7747818  0.59460562 0.1376481  0.33959276 0.7251865  0.3661044\n",
      " 0.34708587 0.44456307 0.22333062 0.42093343 0.42862375 0.22072376\n",
      " 0.74478143 0.40235544 0.78745897 0.73573729 0.28671633 0.63667443\n",
      " 0.5779031  0.87693183 0.29292816 0.64982927 0.59746477 0.38506628\n",
      " 0.15522687 0.612436   0.70130927 0.39226945 0.55649169 0.52824235\n",
      " 0.71447824 0.20936418 0.82306321 0.49708883 0.26284929 0.08765392\n",
      " 0.14243725 0.64019651 0.26892317 0.83405132 0.0681965  0.32164437\n",
      " 0.38151656 0.43053671 0.19016537 0.47338627 0.56214072 0.4060089\n",
      " 0.4943237  0.57555636 0.29343536 0.43719393 0.91430503 0.52378842\n",
      " 0.64078049 0.32546125 0.81029552 0.72122775],\n",
      "Best Score PSO-LSTM: 0.7877094745635986,\n",
      "Loss PSO-LSTM: 1.2032387256622314,\n",
      "Time Execution PSO-LSTM: 168.41669178009033\n"
     ]
    }
   ],
   "source": [
    "print(f\"Best PSO-LSTM Solution: {best_solution_pso},\\nBest Score PSO-LSTM: {-best_score_pso},\\nLoss PSO-LSTM: {loss_pso},\\nTime Execution PSO-LSTM: {times_pso}\")"
   ]
  },
  {
   "cell_type": "markdown",
   "metadata": {
    "id": "1Emp2ujPb3jy"
   },
   "source": [
    "# Ant Colony Optimization (ACO)"
   ]
  },
  {
   "cell_type": "code",
   "execution_count": 8,
   "metadata": {
    "id": "ub7iI196b-yB"
   },
   "outputs": [],
   "source": [
    "def aco(func, lb, ub, ants=100, maxiter=100, alpha=1.0, beta=2.0, evaporation_rate=0.5, pheromone_deposit=0.1, debug=False):\n",
    "    \"\"\"\n",
    "    Perform an Ant Colony Optimization (ACO)\n",
    "\n",
    "    Parameters:\n",
    "    - func: The function to be minimized\n",
    "    - lb: The lower bounds of the design variable(s)\n",
    "    - ub: The upper bounds of the design variable(s)\n",
    "    - ants: The number of ants in the colony (Default: 100)\n",
    "    - maxiter: The maximum number of iterations (Default: 100)\n",
    "    - alpha: Relative importance of pheromone (Default: 1.0)\n",
    "    - beta: Relative importance of heuristic information (Default: 2.0)\n",
    "    - evaporation_rate: Rate at which pheromone evaporates (Default: 0.5)\n",
    "    - pheromone_deposit: Amount of pheromone deposited by ants (Default: 0.1)\n",
    "    - debug: If True, progress statements will be displayed (Default: False)\n",
    "\n",
    "    Returns:\n",
    "    - The best known position and objective value\n",
    "    \"\"\"\n",
    "    # Initialize variables\n",
    "    dim = len(lb)\n",
    "    pheromone_levels = np.ones((ants, dim))\n",
    "    best_val = np.inf\n",
    "    best_pos = None\n",
    "\n",
    "    # Main ACO loop\n",
    "    for iteration in range(maxiter):\n",
    "        positions = np.random.uniform(low=lb, high=ub, size=(ants, dim))\n",
    "        for ant in range(ants):\n",
    "            val = func(positions[ant])\n",
    "            if val < best_val:\n",
    "                best_val = val\n",
    "                best_pos = positions[ant]\n",
    "\n",
    "            # Update pheromones\n",
    "            pheromone_levels[ant] += pheromone_deposit\n",
    "\n",
    "        # Evaporate pheromones\n",
    "        pheromone_levels *= (1 - evaporation_rate)\n",
    "\n",
    "        if debug:\n",
    "            print(f\"Iteration {iteration}: Best Value = {best_val}\")\n",
    "\n",
    "    return best_pos, best_val"
   ]
  },
  {
   "cell_type": "code",
   "execution_count": 9,
   "metadata": {
    "id": "HI7uM4mdcTv1"
   },
   "outputs": [],
   "source": [
    "# Jalankan ACO\n",
    "optimizer_results_aco = aco(func=objective_function, lb=lb, ub=ub, ants=10, maxiter=50)  # Kurangi untuk kecepatan\n",
    "\n",
    "best_weights_aco = optimizer_results_aco[0]"
   ]
  },
  {
   "cell_type": "markdown",
   "metadata": {
    "id": "VBNlyX46b7fb"
   },
   "source": [
    "# Cat Swarm Optimization (CSO)"
   ]
  },
  {
   "cell_type": "code",
   "execution_count": 10,
   "metadata": {
    "id": "S2gAPTPEb_JR"
   },
   "outputs": [],
   "source": [
    "def cso(func, lb, ub, cats=100, maxiter=100, mix_rate=0.5, seeking_memory_pool=5, seeking_range_of_selected_dimension=0.2, counts_of_dimension_to_change=2, debug=False):\n",
    "    \"\"\"\n",
    "    Perform a Cat Swarm Optimization (CSO)\n",
    "\n",
    "    Parameters:\n",
    "    - func: The function to be minimized\n",
    "    - lb: The lower bounds of the design variable(s)\n",
    "    - ub: The upper bounds of the design variable(s)\n",
    "    - cats: The number of cats in the swarm (Default: 100)\n",
    "    - maxiter: The maximum number of iterations (Default: 100)\n",
    "    - mix_rate: Mixture rate to switch between seeking and tracing modes (Default: 0.5)\n",
    "    - seeking_memory_pool: Size of memory pool in seeking mode (Default: 5)\n",
    "    - seeking_range_of_selected_dimension: Range of selected dimension in seeking mode (Default: 0.2)\n",
    "    - counts_of_dimension_to_change: Number of dimensions to change in seeking mode (Default: 2)\n",
    "    - debug: If True, progress statements will be displayed (Default: False)\n",
    "\n",
    "    Returns:\n",
    "    - The best known position and objective value\n",
    "    \"\"\"\n",
    "    # Initialize variables\n",
    "    dim = len(lb)\n",
    "    best_val = np.inf\n",
    "    best_pos = None\n",
    "    positions = np.random.uniform(low=lb, high=ub, size=(cats, dim))\n",
    "\n",
    "    # Main CSO loop\n",
    "    for iteration in range(maxiter):\n",
    "        for cat in range(cats):\n",
    "            if np.random.rand() < mix_rate:\n",
    "                # Seeking mode\n",
    "                for _ in range(seeking_memory_pool):\n",
    "                    candidate_position = positions[cat] + np.random.uniform(-1, 1, size=dim) * seeking_range_of_selected_dimension\n",
    "                    candidate_position = np.clip(candidate_position, lb, ub)\n",
    "                    val = func(candidate_position)\n",
    "                    if val < best_val:\n",
    "                        best_val = val\n",
    "                        best_pos = candidate_position\n",
    "            else:\n",
    "                # Tracing mode (simplified as random walk in this example)\n",
    "                positions[cat] += np.random.uniform(-1, 1, size=dim)\n",
    "                positions[cat] = np.clip(positions[cat], lb, ub)\n",
    "                val = func(positions[cat])\n",
    "                if val < best_val:\n",
    "                    best_val = val\n",
    "                    best_pos = positions[cat]\n",
    "\n",
    "        if debug:\n",
    "            print(f\"Iteration {iteration}: Best Value = {best_val}\")\n",
    "\n",
    "    return best_pos, best_val"
   ]
  },
  {
   "cell_type": "code",
   "execution_count": 11,
   "metadata": {
    "id": "dI-hqeWVc98G"
   },
   "outputs": [],
   "source": [
    "# Jalankan CSO\n",
    "optimizer_results_cso = cso(func=objective_function, lb=lb, ub=ub, cats=10, maxiter=50)  # Kurangi untuk kecepatan\n",
    "\n",
    "best_weights_cso = optimizer_results_cso[0]"
   ]
  },
  {
   "cell_type": "markdown",
   "metadata": {
    "id": "oiMhM9xmdDFJ"
   },
   "source": [
    "# **Modeling**"
   ]
  },
  {
   "cell_type": "code",
   "execution_count": 53,
   "metadata": {
    "id": "HuWcVlqQjGR7"
   },
   "outputs": [],
   "source": [
    "def create_lstm_model(input_length, num_classes):\n",
    "    model = Sequential([\n",
    "        Embedding(input_dim=5000, output_dim=50, input_length=input_length),\n",
    "        LSTM(50, dropout=0.2, recurrent_dropout=0.2, kernel_regularizer=l1_l2(l1=0.01, l2=0.01)),\n",
    "        Dense(num_classes, activation='softmax' if num_classes > 2 else 'sigmoid') # Gunakan 'sigmoid' untuk binary, 'softmax' untuk multiclass\n",
    "    ])\n",
    "    model.compile(optimizer='adam', loss='categorical_crossentropy' if num_classes > 2 else 'binary_crossentropy', metrics=['accuracy']) # Sesuaikan loss function\n",
    "    return model\n",
    "\n",
    "# Early stopping callback\n",
    "early_stopping = EarlyStopping(monitor='val_loss', patience=3, verbose=1, mode='min', restore_best_weights=True)"
   ]
  },
  {
   "cell_type": "markdown",
   "metadata": {
    "id": "nkdqyiVUfEzq"
   },
   "source": [
    "# LSTM"
   ]
  },
  {
   "cell_type": "code",
   "execution_count": 54,
   "metadata": {
    "id": "AF4MgIqijKn8"
   },
   "outputs": [
    {
     "name": "stdout",
     "output_type": "stream",
     "text": [
      "Epoch 1/10\n",
      "99/99 [==============================] - 6s 40ms/step - loss: 5.3251 - accuracy: 0.4955 - val_loss: 2.1942 - val_accuracy: 0.5029\n",
      "Epoch 2/10\n",
      "99/99 [==============================] - 3s 35ms/step - loss: 1.2399 - accuracy: 0.5745 - val_loss: 0.8967 - val_accuracy: 0.6279\n",
      "Epoch 3/10\n",
      "99/99 [==============================] - 4s 37ms/step - loss: 0.8448 - accuracy: 0.6630 - val_loss: 0.8123 - val_accuracy: 0.7029\n",
      "Epoch 4/10\n",
      "99/99 [==============================] - 4s 36ms/step - loss: 0.7067 - accuracy: 0.7487 - val_loss: 0.7416 - val_accuracy: 0.7378\n",
      "Epoch 5/10\n",
      "99/99 [==============================] - 3s 35ms/step - loss: 0.6102 - accuracy: 0.7831 - val_loss: 0.7744 - val_accuracy: 0.7537\n",
      "Epoch 6/10\n",
      "99/99 [==============================] - 4s 36ms/step - loss: 0.5557 - accuracy: 0.8085 - val_loss: 0.7840 - val_accuracy: 0.7416\n",
      "Epoch 7/10\n",
      "99/99 [==============================] - ETA: 0s - loss: 0.5061 - accuracy: 0.8304Restoring model weights from the end of the best epoch: 4.\n",
      "99/99 [==============================] - 4s 36ms/step - loss: 0.5061 - accuracy: 0.8304 - val_loss: 0.8125 - val_accuracy: 0.7410\n",
      "Epoch 7: early stopping\n",
      "62/62 [==============================] - 0s 5ms/step - loss: 0.7887 - accuracy: 0.7212\n",
      "Test Loss: 0.7887192368507385\n",
      "Test Accuracy: 0.7211782336235046\n"
     ]
    }
   ],
   "source": [
    "model_lstm = create_lstm_model(X_train.shape[1], y_train.shape[1])\n",
    "history_lstm = model_lstm.fit(X_train, y_train, validation_split=0.2, epochs=10, batch_size=64, callbacks=[early_stopping])\n",
    "\n",
    "# Evaluasi model\n",
    "loss, accuracy = model_lstm.evaluate(X_test, y_test)\n",
    "print(f\"Test Loss: {loss}\")\n",
    "print(f\"Test Accuracy: {accuracy}\")"
   ]
  },
  {
   "cell_type": "markdown",
   "metadata": {
    "id": "zY28ggTJezn8"
   },
   "source": [
    "# PSO-LSTM"
   ]
  },
  {
   "cell_type": "code",
   "execution_count": 55,
   "metadata": {
    "tags": []
   },
   "outputs": [
    {
     "name": "stdout",
     "output_type": "stream",
     "text": [
      "Epoch 1/10\n",
      "99/99 [==============================] - 4s 22ms/step - loss: 5.3201 - accuracy: 0.5336 - val_loss: 2.1499 - val_accuracy: 0.5949\n",
      "Epoch 2/10\n",
      "99/99 [==============================] - 2s 20ms/step - loss: 1.1845 - accuracy: 0.6325 - val_loss: 0.8703 - val_accuracy: 0.6463\n",
      "Epoch 3/10\n",
      "99/99 [==============================] - 2s 20ms/step - loss: 0.7926 - accuracy: 0.6971 - val_loss: 0.8238 - val_accuracy: 0.7117\n",
      "Epoch 4/10\n",
      "99/99 [==============================] - 2s 20ms/step - loss: 0.6737 - accuracy: 0.7535 - val_loss: 0.7939 - val_accuracy: 0.7149\n",
      "Epoch 5/10\n",
      "99/99 [==============================] - 2s 20ms/step - loss: 0.5960 - accuracy: 0.7873 - val_loss: 0.8134 - val_accuracy: 0.7257\n",
      "Epoch 6/10\n",
      "99/99 [==============================] - 2s 19ms/step - loss: 0.5447 - accuracy: 0.8127 - val_loss: 0.8309 - val_accuracy: 0.7130\n",
      "Epoch 7/10\n",
      "97/99 [============================>.] - ETA: 0s - loss: 0.4940 - accuracy: 0.8420Restoring model weights from the end of the best epoch: 4.\n",
      "99/99 [==============================] - 2s 21ms/step - loss: 0.4937 - accuracy: 0.8420 - val_loss: 0.9383 - val_accuracy: 0.7137\n",
      "Epoch 7: early stopping\n",
      "62/62 [==============================] - 0s 3ms/step - loss: 0.8285 - accuracy: 0.7034\n",
      "Test Loss: 0.8284865021705627\n",
      "Test Accuracy: 0.7034027576446533\n"
     ]
    }
   ],
   "source": [
    "# Asumsikan best_weights sudah ada\n",
    "selected_indices_pso = np.where(best_weights_pso > 0.5)[0]  # Ambil indeks dengan bobot > 0.5\n",
    "\n",
    "# Memfilter X_train dan X_test berdasarkan fitur terpilih\n",
    "X_train_selected_pso = X_train[:, selected_indices_pso]\n",
    "X_test_selected_pso = X_test[:, selected_indices_pso]\n",
    "\n",
    "model_pso_lstm = create_lstm_model(X_train_selected_pso.shape[1], y_train.shape[1])\n",
    "history_pso_lstm = model_pso_lstm.fit(X_train_selected_pso, y_train, validation_split=0.2, epochs=10, batch_size=64, callbacks=[early_stopping])\n",
    "\n",
    "# Evaluasi model\n",
    "loss, accuracy = model_pso_lstm.evaluate(X_test_selected_pso, y_test)\n",
    "print(f\"Test Loss: {loss}\")\n",
    "print(f\"Test Accuracy: {accuracy}\")"
   ]
  },
  {
   "cell_type": "markdown",
   "metadata": {
    "id": "PzSNkG_2e8Mj"
   },
   "source": [
    "# ACO-LSTM"
   ]
  },
  {
   "cell_type": "code",
   "execution_count": 56,
   "metadata": {
    "tags": []
   },
   "outputs": [
    {
     "name": "stdout",
     "output_type": "stream",
     "text": [
      "Epoch 1/10\n",
      "99/99 [==============================] - 4s 22ms/step - loss: 5.2272 - accuracy: 0.5244 - val_loss: 2.1339 - val_accuracy: 0.5029\n",
      "Epoch 2/10\n",
      "99/99 [==============================] - 2s 19ms/step - loss: 1.1940 - accuracy: 0.6188 - val_loss: 0.8829 - val_accuracy: 0.6438\n",
      "Epoch 3/10\n",
      "99/99 [==============================] - 2s 19ms/step - loss: 0.8204 - accuracy: 0.6784 - val_loss: 0.8067 - val_accuracy: 0.6863\n",
      "Epoch 4/10\n",
      "99/99 [==============================] - 2s 19ms/step - loss: 0.6985 - accuracy: 0.7533 - val_loss: 0.7773 - val_accuracy: 0.7270\n",
      "Epoch 5/10\n",
      "99/99 [==============================] - 2s 19ms/step - loss: 0.6147 - accuracy: 0.7850 - val_loss: 0.7668 - val_accuracy: 0.7410\n",
      "Epoch 6/10\n",
      "99/99 [==============================] - 2s 19ms/step - loss: 0.5488 - accuracy: 0.8200 - val_loss: 0.7868 - val_accuracy: 0.7403\n",
      "Epoch 7/10\n",
      "99/99 [==============================] - 2s 20ms/step - loss: 0.4984 - accuracy: 0.8466 - val_loss: 0.7949 - val_accuracy: 0.7429\n",
      "Epoch 8/10\n",
      "96/99 [============================>.] - ETA: 0s - loss: 0.4536 - accuracy: 0.8700Restoring model weights from the end of the best epoch: 5.\n",
      "99/99 [==============================] - 2s 20ms/step - loss: 0.4515 - accuracy: 0.8709 - val_loss: 0.8795 - val_accuracy: 0.7498\n",
      "Epoch 8: early stopping\n",
      "62/62 [==============================] - 0s 3ms/step - loss: 0.8375 - accuracy: 0.7181\n",
      "Test Loss: 0.837474524974823\n",
      "Test Accuracy: 0.7181310057640076\n"
     ]
    }
   ],
   "source": [
    "# Asumsikan best_weights sudah ada\n",
    "selected_indices_aco = np.where(best_weights_aco > 0.5)[0]  # Ambil indeks dengan bobot > 0.5\n",
    "\n",
    "# Memfilter X_train dan X_test berdasarkan fitur terpilih\n",
    "X_train_selected_aco = X_train[:, selected_indices_aco]\n",
    "X_test_selected_aco = X_test[:, selected_indices_aco]\n",
    "\n",
    "model_aco_lstm = create_lstm_model(X_train_selected_aco.shape[1], y_train.shape[1])\n",
    "history_aco_lstm = model_aco_lstm.fit(X_train_selected_aco, y_train, validation_split=0.2, epochs=10, batch_size=64, callbacks=[early_stopping])\n",
    "\n",
    "# Evaluasi model\n",
    "loss, accuracy = model_aco_lstm.evaluate(X_test_selected_aco, y_test)\n",
    "print(f\"Test Loss: {loss}\")\n",
    "print(f\"Test Accuracy: {accuracy}\")"
   ]
  },
  {
   "cell_type": "markdown",
   "metadata": {
    "id": "wX8D2xXle8bx"
   },
   "source": [
    "# CSO-LSTM"
   ]
  },
  {
   "cell_type": "code",
   "execution_count": 57,
   "metadata": {
    "tags": []
   },
   "outputs": [
    {
     "name": "stdout",
     "output_type": "stream",
     "text": [
      "Epoch 1/10\n",
      "99/99 [==============================] - 4s 19ms/step - loss: 5.3418 - accuracy: 0.5299 - val_loss: 2.1962 - val_accuracy: 0.6210\n",
      "Epoch 2/10\n",
      "99/99 [==============================] - 2s 17ms/step - loss: 1.2588 - accuracy: 0.5712 - val_loss: 0.9287 - val_accuracy: 0.6254\n",
      "Epoch 3/10\n",
      "99/99 [==============================] - 2s 17ms/step - loss: 0.9103 - accuracy: 0.6271 - val_loss: 0.8845 - val_accuracy: 0.6400\n",
      "Epoch 4/10\n",
      "99/99 [==============================] - 2s 17ms/step - loss: 0.8425 - accuracy: 0.6563 - val_loss: 0.8927 - val_accuracy: 0.6317\n",
      "Epoch 5/10\n",
      "99/99 [==============================] - 2s 17ms/step - loss: 0.7740 - accuracy: 0.7093 - val_loss: 0.8441 - val_accuracy: 0.6743\n",
      "Epoch 6/10\n",
      "99/99 [==============================] - 2s 17ms/step - loss: 0.7176 - accuracy: 0.7473 - val_loss: 0.8468 - val_accuracy: 0.6724\n",
      "Epoch 7/10\n",
      "99/99 [==============================] - 2s 17ms/step - loss: 0.6746 - accuracy: 0.7630 - val_loss: 0.8603 - val_accuracy: 0.6838\n",
      "Epoch 8/10\n",
      "97/99 [============================>.] - ETA: 0s - loss: 0.6406 - accuracy: 0.7735Restoring model weights from the end of the best epoch: 5.\n",
      "99/99 [==============================] - 2s 17ms/step - loss: 0.6408 - accuracy: 0.7730 - val_loss: 0.8848 - val_accuracy: 0.6781\n",
      "Epoch 8: early stopping\n",
      "62/62 [==============================] - 0s 3ms/step - loss: 0.8901 - accuracy: 0.6790\n",
      "Test Loss: 0.8900994062423706\n",
      "Test Accuracy: 0.679024875164032\n"
     ]
    }
   ],
   "source": [
    "# Asumsikan best_weights sudah ada\n",
    "selected_indices_cso = np.where(best_weights_cso > 0.5)[0]  # Ambil indeks dengan bobot > 0.5\n",
    "\n",
    "# Memfilter X_train dan X_test berdasarkan fitur terpilih\n",
    "X_train_selected_cso = X_train[:, selected_indices_cso]\n",
    "X_test_selected_cso = X_test[:, selected_indices_cso]\n",
    "\n",
    "model_cso_lstm = create_lstm_model(X_train_selected_cso.shape[1], y_train.shape[1])\n",
    "history_cso_lstm = model_cso_lstm.fit(X_train_selected_cso, y_train, validation_split=0.2, epochs=10, batch_size=64, callbacks=[early_stopping])\n",
    "\n",
    "# Evaluasi model\n",
    "loss, accuracy = model_cso_lstm.evaluate(X_test_selected_cso, y_test)\n",
    "print(f\"Test Loss: {loss}\")\n",
    "print(f\"Test Accuracy: {accuracy}\")"
   ]
  }
 ],
 "metadata": {
  "accelerator": "TPU",
  "colab": {
   "provenance": []
  },
  "kernelspec": {
   "display_name": "Python 3 (ipykernel)",
   "language": "python",
   "name": "python3"
  },
  "language_info": {
   "codemirror_mode": {
    "name": "ipython",
    "version": 3
   },
   "file_extension": ".py",
   "mimetype": "text/x-python",
   "name": "python",
   "nbconvert_exporter": "python",
   "pygments_lexer": "ipython3",
   "version": "3.11.5"
  }
 },
 "nbformat": 4,
 "nbformat_minor": 4
}
